{
  "nbformat": 4,
  "nbformat_minor": 0,
  "metadata": {
    "accelerator": "GPU",
    "colab": {
      "name": "Project_code.ipynb",
      "provenance": [],
      "collapsed_sections": [
        "rFdDt-rcsL2H",
        "airtwZNxnExX",
        "3Tu_Y72B4pzi",
        "NE2S28_N1rEX",
        "loTVa6xTDvK6"
      ],
      "toc_visible": true,
      "machine_shape": "hm"
    },
    "kernelspec": {
      "display_name": "Python 3",
      "name": "python3"
    },
    "language_info": {
      "name": "python"
    }
  },
  "cells": [
    {
      "cell_type": "markdown",
      "metadata": {
        "id": "le7FDQiqznw4"
      },
      "source": [
        "## 1.1 Check GPU"
      ]
    },
    {
      "cell_type": "code",
      "metadata": {
        "colab": {
          "base_uri": "https://localhost:8080/"
        },
        "id": "P-u9kDANznGE",
        "outputId": "2ccd9acf-cecb-4813-dcaa-ca85f78e50a1"
      },
      "source": [
        "!nvidia-smi --query-gpu=gpu_name,driver_version,memory.total --format=csv"
      ],
      "execution_count": 1,
      "outputs": [
        {
          "output_type": "stream",
          "text": [
            "name, driver_version, memory.total [MiB]\n",
            "Tesla V100-SXM2-16GB, 460.32.03, 16160 MiB\n"
          ],
          "name": "stdout"
        }
      ]
    },
    {
      "cell_type": "markdown",
      "metadata": {
        "id": "rFdDt-rcsL2H"
      },
      "source": [
        "## 1.2 Connect to google drive"
      ]
    },
    {
      "cell_type": "code",
      "metadata": {
        "colab": {
          "base_uri": "https://localhost:8080/"
        },
        "id": "Kyb_wJkysNxl",
        "outputId": "c3181f00-55d7-418d-fa61-0a9ea4a48b0e"
      },
      "source": [
        "# Connect Google drive\n",
        "from google.colab import drive\n",
        "import json\n",
        "drive.mount(\"/content/gdrive\", force_remount=True)"
      ],
      "execution_count": 2,
      "outputs": [
        {
          "output_type": "stream",
          "text": [
            "Mounted at /content/gdrive\n"
          ],
          "name": "stdout"
        }
      ]
    },
    {
      "cell_type": "markdown",
      "metadata": {
        "id": "airtwZNxnExX"
      },
      "source": [
        "## 1.3 Import library and define global variable"
      ]
    },
    {
      "cell_type": "markdown",
      "metadata": {
        "id": "ByhLlT6g586I"
      },
      "source": [
        "### 1.3.1 Regular Library"
      ]
    },
    {
      "cell_type": "code",
      "metadata": {
        "id": "Yk9BeVIbnEPF",
        "colab": {
          "base_uri": "https://localhost:8080/"
        },
        "outputId": "7b958a3c-3434-4a75-c617-5beb19f5e525"
      },
      "source": [
        "import sys\n",
        "import numpy as np\n",
        "import pandas as pd\n",
        "import os\n",
        "import time\n",
        "import string\n",
        "import torch\n",
        "import torchvision \n",
        "import torchsummary\n",
        "import torch.nn as nn\n",
        "import torch.optim as optim\n",
        "import torch.nn.functional as F\n",
        "import matplotlib.pyplot as plt\n",
        "from torch.nn.utils.rnn import *\n",
        "from torch.utils import data\n",
        "from tqdm import tqdm\n",
        "from torch.utils.data import Dataset, DataLoader\n",
        "from termcolor import cprint\n",
        "from matplotlib.ticker import MaxNLocator\n",
        "\n",
        "# Seed\n",
        "np.random.seed(100)\n",
        "torch.manual_seed(100)\n",
        "\n",
        "# Global variable\n",
        "cuda = torch.cuda.is_available()\n",
        "device = torch.device(\"cuda\" if cuda else \"cpu\")\n",
        "sys.version\n",
        "print(cuda, sys.version)"
      ],
      "execution_count": 3,
      "outputs": [
        {
          "output_type": "stream",
          "text": [
            "True 3.7.10 (default, Feb 20 2021, 21:17:23) \n",
            "[GCC 7.5.0]\n"
          ],
          "name": "stdout"
        }
      ]
    },
    {
      "cell_type": "markdown",
      "metadata": {
        "id": "qT_0RYBilwoM"
      },
      "source": [
        "### 1.3.2 Intall ctcdecode"
      ]
    },
    {
      "cell_type": "code",
      "metadata": {
        "colab": {
          "base_uri": "https://localhost:8080/"
        },
        "id": "DE7Pi8x2lswI",
        "outputId": "610388a6-f4d7-4c9e-d53c-a77895480a62"
      },
      "source": [
        "!git clone --recursive https://github.com/parlance/ctcdecode.git\n",
        "!pip install wget\n",
        "%cd ctcdecode\n",
        "!pip install .\n",
        "%cd .."
      ],
      "execution_count": 4,
      "outputs": [
        {
          "output_type": "stream",
          "text": [
            "Cloning into 'ctcdecode'...\n",
            "remote: Enumerating objects: 1063, done.\u001b[K\n",
            "remote: Total 1063 (delta 0), reused 0 (delta 0), pack-reused 1063\u001b[K\n",
            "Receiving objects: 100% (1063/1063), 759.71 KiB | 4.69 MiB/s, done.\n",
            "Resolving deltas: 100% (513/513), done.\n",
            "Submodule 'third_party/ThreadPool' (https://github.com/progschj/ThreadPool.git) registered for path 'third_party/ThreadPool'\n",
            "Submodule 'third_party/kenlm' (https://github.com/kpu/kenlm.git) registered for path 'third_party/kenlm'\n",
            "Cloning into '/content/ctcdecode/third_party/ThreadPool'...\n",
            "remote: Enumerating objects: 82, done.        \n",
            "remote: Total 82 (delta 0), reused 0 (delta 0), pack-reused 82        \n",
            "Cloning into '/content/ctcdecode/third_party/kenlm'...\n",
            "remote: Enumerating objects: 13687, done.        \n",
            "remote: Total 13687 (delta 0), reused 0 (delta 0), pack-reused 13687        \n",
            "Receiving objects: 100% (13687/13687), 5.46 MiB | 16.99 MiB/s, done.\n",
            "Resolving deltas: 100% (7880/7880), done.\n",
            "Submodule path 'third_party/ThreadPool': checked out '9a42ec1329f259a5f4881a291db1dcb8f2ad9040'\n",
            "Submodule path 'third_party/kenlm': checked out '35835f1ac4884126458ac89f9bf6dd9ccad561e0'\n",
            "Collecting wget\n",
            "  Downloading https://files.pythonhosted.org/packages/47/6a/62e288da7bcda82b935ff0c6cfe542970f04e29c756b0e147251b2fb251f/wget-3.2.zip\n",
            "Building wheels for collected packages: wget\n",
            "  Building wheel for wget (setup.py) ... \u001b[?25l\u001b[?25hdone\n",
            "  Created wheel for wget: filename=wget-3.2-cp37-none-any.whl size=9681 sha256=bd0aa04aa8b07488aaf623f0cf2ce011ca168ba69a20c390cb5ece949f35d27c\n",
            "  Stored in directory: /root/.cache/pip/wheels/40/15/30/7d8f7cea2902b4db79e3fea550d7d7b85ecb27ef992b618f3f\n",
            "Successfully built wget\n",
            "Installing collected packages: wget\n",
            "Successfully installed wget-3.2\n",
            "/content/ctcdecode\n",
            "Processing /content/ctcdecode\n",
            "Building wheels for collected packages: ctcdecode\n",
            "  Building wheel for ctcdecode (setup.py) ... \u001b[?25l\u001b[?25hdone\n",
            "  Created wheel for ctcdecode: filename=ctcdecode-1.0.2-cp37-cp37m-linux_x86_64.whl size=12877882 sha256=2dc4de8b4c0d23e42982a37eb929a4f5b92362a6a96a8e7c2065f7d6f2539cca\n",
            "  Stored in directory: /tmp/pip-ephem-wheel-cache-gd2nx2f7/wheels/c3/6c/94/7d57d4f20a87a22ef1722eaad22052b4c435892b55400e5f4e\n",
            "Successfully built ctcdecode\n",
            "Installing collected packages: ctcdecode\n",
            "Successfully installed ctcdecode-1.0.2\n",
            "/content\n"
          ],
          "name": "stdout"
        }
      ]
    },
    {
      "cell_type": "code",
      "metadata": {
        "colab": {
          "base_uri": "https://localhost:8080/"
        },
        "id": "JpU907x6l8UF",
        "outputId": "dec146c8-57fd-4bba-b27d-29800ff6b47b"
      },
      "source": [
        "from ctcdecode import CTCBeamDecoder\n",
        "\n",
        "decoder = CTCBeamDecoder([' ', 'A'], beam_width=4)\n",
        "probs = torch.Tensor([[0.2, 0.8], [0.8, 0.2]])\n",
        "print(probs.size())\n",
        "probs = probs.unsqueeze(0)\n",
        "print(probs.size())\n",
        "out, _, _, out_lens = decoder.decode(probs, torch.LongTensor([2]))\n",
        "print(out[0, 0, :out_lens[0, 0]])"
      ],
      "execution_count": 5,
      "outputs": [
        {
          "output_type": "stream",
          "text": [
            "torch.Size([2, 2])\n",
            "torch.Size([1, 2, 2])\n",
            "tensor([1], dtype=torch.int32)\n"
          ],
          "name": "stdout"
        }
      ]
    },
    {
      "cell_type": "markdown",
      "metadata": {
        "id": "IdQ6bH0RDNsk"
      },
      "source": [
        "### 1.3.3 Install Levenshtein Distance"
      ]
    },
    {
      "cell_type": "code",
      "metadata": {
        "id": "XhfIvI2bPJuN",
        "colab": {
          "base_uri": "https://localhost:8080/"
        },
        "outputId": "04107111-30c4-41ed-e9a7-fac4d02b1b9e"
      },
      "source": [
        "!pip install python-levenshtein\n",
        "import Levenshtein as lev"
      ],
      "execution_count": 6,
      "outputs": [
        {
          "output_type": "stream",
          "text": [
            "Collecting python-levenshtein\n",
            "\u001b[?25l  Downloading https://files.pythonhosted.org/packages/2a/dc/97f2b63ef0fa1fd78dcb7195aca577804f6b2b51e712516cc0e902a9a201/python-Levenshtein-0.12.2.tar.gz (50kB)\n",
            "\r\u001b[K     |██████▌                         | 10kB 18.3MB/s eta 0:00:01\r\u001b[K     |█████████████                   | 20kB 25.1MB/s eta 0:00:01\r\u001b[K     |███████████████████▌            | 30kB 26.3MB/s eta 0:00:01\r\u001b[K     |██████████████████████████      | 40kB 19.0MB/s eta 0:00:01\r\u001b[K     |████████████████████████████████| 51kB 5.4MB/s \n",
            "\u001b[?25hRequirement already satisfied: setuptools in /usr/local/lib/python3.7/dist-packages (from python-levenshtein) (54.2.0)\n",
            "Building wheels for collected packages: python-levenshtein\n",
            "  Building wheel for python-levenshtein (setup.py) ... \u001b[?25l\u001b[?25hdone\n",
            "  Created wheel for python-levenshtein: filename=python_Levenshtein-0.12.2-cp37-cp37m-linux_x86_64.whl size=149804 sha256=861526150b79b6166d600f311acef78bbdc03876919a72d70ec09c4d103c9dab\n",
            "  Stored in directory: /root/.cache/pip/wheels/b3/26/73/4b48503bac73f01cf18e52cd250947049a7f339e940c5df8fc\n",
            "Successfully built python-levenshtein\n",
            "Installing collected packages: python-levenshtein\n",
            "Successfully installed python-levenshtein-0.12.2\n"
          ],
          "name": "stdout"
        }
      ]
    },
    {
      "cell_type": "markdown",
      "metadata": {
        "id": "3Tu_Y72B4pzi"
      },
      "source": [
        "## 2.1 Transcript"
      ]
    },
    {
      "cell_type": "code",
      "metadata": {
        "colab": {
          "base_uri": "https://localhost:8080/"
        },
        "id": "kB4orSEyJJvr",
        "outputId": "9c49ea79-9c4b-4b6b-93c6-bc4ffeee3264"
      },
      "source": [
        "!pip install pysrt"
      ],
      "execution_count": null,
      "outputs": [
        {
          "output_type": "stream",
          "text": [
            "Collecting pysrt\n",
            "\u001b[?25l  Downloading https://files.pythonhosted.org/packages/31/1a/0d858da1c6622dcf16011235a2639b0a01a49cecf812f8ab03308ab4de37/pysrt-1.1.2.tar.gz (104kB)\n",
            "\r\u001b[K     |███▏                            | 10kB 27.3MB/s eta 0:00:01\r\u001b[K     |██████▎                         | 20kB 16.2MB/s eta 0:00:01\r\u001b[K     |█████████▍                      | 30kB 13.7MB/s eta 0:00:01\r\u001b[K     |████████████▋                   | 40kB 12.8MB/s eta 0:00:01\r\u001b[K     |███████████████▊                | 51kB 7.9MB/s eta 0:00:01\r\u001b[K     |██████████████████▉             | 61kB 8.6MB/s eta 0:00:01\r\u001b[K     |██████████████████████          | 71kB 8.7MB/s eta 0:00:01\r\u001b[K     |█████████████████████████▏      | 81kB 9.0MB/s eta 0:00:01\r\u001b[K     |████████████████████████████▎   | 92kB 9.1MB/s eta 0:00:01\r\u001b[K     |███████████████████████████████▍| 102kB 7.6MB/s eta 0:00:01\r\u001b[K     |████████████████████████████████| 112kB 7.6MB/s \n",
            "\u001b[?25hRequirement already satisfied: chardet in /usr/local/lib/python3.7/dist-packages (from pysrt) (3.0.4)\n",
            "Building wheels for collected packages: pysrt\n",
            "  Building wheel for pysrt (setup.py) ... \u001b[?25l\u001b[?25hdone\n",
            "  Created wheel for pysrt: filename=pysrt-1.1.2-cp37-none-any.whl size=13427 sha256=c81718e144d31f84c67ad2b8f619fb8312bb955dd2e8a51991d80140a06d7dc5\n",
            "  Stored in directory: /root/.cache/pip/wheels/57/7d/68/0307a3018abbaa1a7b870e6419123d07480dd169bfdea74aea\n",
            "Successfully built pysrt\n",
            "Installing collected packages: pysrt\n",
            "Successfully installed pysrt-1.1.2\n"
          ],
          "name": "stdout"
        }
      ]
    },
    {
      "cell_type": "code",
      "metadata": {
        "id": "y8PhCRNm9bSy"
      },
      "source": [
        "import pysrt\n",
        "import codecs\n",
        "# https://github.com/scateu/convert-srt-to-audacity-label\n",
        "\n",
        "filename = 'knnw_en_sub.srt'\n",
        "subs = pysrt.open(filename)"
      ],
      "execution_count": null,
      "outputs": []
    },
    {
      "cell_type": "code",
      "metadata": {
        "colab": {
          "base_uri": "https://localhost:8080/"
        },
        "id": "sxM23nB7JoEk",
        "outputId": "64a56d4c-66f8-4b79-a717-dc92b98f64d1"
      },
      "source": [
        "output_filename = 'labels.txt'\n",
        "output = codecs.open(output_filename, 'w', 'utf-8')\n",
        "\n",
        "for s in subs:\n",
        "    start = s.start.hours * 60 * 60 + s.start.minutes * 60 + s.start.seconds + s.start.milliseconds/1000.0\n",
        "    end = s.end.hours * 60 * 60 + s.end.minutes * 60 + s.end.seconds + s.end.milliseconds/1000.0\n",
        "    output.write( \"%.6f\\t%.6f\\t%s\\n\" % (start,end,s.text.replace('\\n',' \\\\\\\\ ') ) )\n",
        "\n",
        "output.close()"
      ],
      "execution_count": null,
      "outputs": [
        {
          "output_type": "stream",
          "text": [
            "labels.txt wrote.\n"
          ],
          "name": "stdout"
        }
      ]
    },
    {
      "cell_type": "markdown",
      "metadata": {
        "id": "R7Nbd2R0s9mS"
      },
      "source": [
        "## 2.2 Data"
      ]
    },
    {
      "cell_type": "code",
      "metadata": {
        "id": "m49zvfhLak_F",
        "colab": {
          "base_uri": "https://localhost:8080/"
        },
        "outputId": "34233f21-5ca2-499a-ff25-ce502432df03"
      },
      "source": [
        "%cd /content/gdrive/MyDrive/CMU/18786_Intro_to_DL/Project/data"
      ],
      "execution_count": 7,
      "outputs": [
        {
          "output_type": "stream",
          "text": [
            "/content/gdrive/MyDrive/CMU/18786_Intro_to_DL/Project/data\n"
          ],
          "name": "stdout"
        }
      ]
    },
    {
      "cell_type": "markdown",
      "metadata": {
        "id": "l-OBCfY2g_N3"
      },
      "source": [
        "### 2.2.1 Char Map"
      ]
    },
    {
      "cell_type": "code",
      "metadata": {
        "id": "KLG9hmNi4a_s",
        "colab": {
          "base_uri": "https://localhost:8080/"
        },
        "outputId": "62e7a493-1c97-4a4f-b9c9-e3ee1dfbcd64"
      },
      "source": [
        "subtitle_lookup_path=\"./knnw_en_sub.csv\"\n",
        "subtitle_lookup = pd.read_table(subtitle_lookup_path, sep = \";\", header=0)\n",
        "print(subtitle_lookup.shape)"
      ],
      "execution_count": 8,
      "outputs": [
        {
          "output_type": "stream",
          "text": [
            "(1393, 4)\n"
          ],
          "name": "stdout"
        }
      ]
    },
    {
      "cell_type": "code",
      "metadata": {
        "id": "DxncW6Il8CZ7"
      },
      "source": [
        "transcript = []\n",
        "for i in range(subtitle_lookup.shape[0]):\n",
        "    subtitle_item = subtitle_lookup.iloc[i, 3]\n",
        "    transcript.append(subtitle_item)"
      ],
      "execution_count": 9,
      "outputs": []
    },
    {
      "cell_type": "code",
      "metadata": {
        "colab": {
          "base_uri": "https://localhost:8080/"
        },
        "id": "NFbIl56D-C8e",
        "outputId": "068bf49e-f994-4c63-f5dc-35de2fecf552"
      },
      "source": [
        "label = {\"Mitsuha: \", \"Taki: \", \"Sayaka: \", \"Yotsuha: \", \"Taki's Father: \", \n",
        "         \"From Tsukasa: \", \"Diner: \", \"JR Yamanote Line: \",\n",
        "         \"Phone: \", \"Okudera: \", \"Takagi: \", \"Waitress: \", \"Chef: \", \"Distant Voice: \", \n",
        "         \"Taki (as Mitsuha): \", \"Mitsuha's Father: \", \"Train Announcer: \"}\n",
        "         \n",
        "label_1 = {\"Photo Exhibition: Nostalgia\",  \"LINE: You have a new message.\"} # just a scene without any audio\n",
        "\n",
        "\n",
        "trans = ''.join(transcript)\n",
        "\n",
        "# Delete all label for now\n",
        "for item in label:\n",
        "  trans = trans.replace(item, \"\")\n",
        "\n",
        "# Tokenize\n",
        "trans = trans.lower()\n",
        "trans = trans.translate(str.maketrans('', '', string.punctuation))\n",
        "trans = trans.replace(\"”\",\"\")\n",
        "trans = trans.replace(\"“\",\"\")\n",
        "trans = ''.join([i for i in trans if not i.isdigit()])\n",
        "print(trans)"
      ],
      "execution_count": 10,
      "outputs": [
        {
          "output_type": "stream",
          "text": [
            "toho corporationsome mornings i wake up crying without knowing whythats when everything happens now and againwhatever that dream was i had i can never remember it but  butthe only thing that does last when i wake upis a sense of losswhich lingers for a long time afterwardsim always searching for somethingor someoneive been consumed by this feelingever since that daythe day a star fellit was almost likelike seeing something out of a dreamnothing more or less than a breathtaking view  than a breathtaking viewah if only our voices speak at nightcould ever reach the very edge of this worldand of timeinstead of fading into air and dustthen what will the words could it ever befarthest words from probablylets make a promise that will never fadelets say it together on the count of three ohah im told that some part of every wish will be heardbut lately ive lost sight of the truth in those wordsi cant even remember when i gave up believingwhat could have been the reasonah the very moment that the rain will stopin the place rainbow born and diesand where the end of this life liesive always been insisting there was something that ive longing forone day well reach to emotions unexplored unprecedentedwell highfive love weve yet to discover and give a kiss to timethe five dimensions keeps on teasing mebut i will keep on looking at you dearlets make a sign for when we say nice to meet you againim on my way to youchasing after your nametakitakitakidont you remembermy name ismitsuhasis what are you doingwhoa theyre so realisticfeelingsismeare you still asleepbreakfast time hurry uphuhwhawhaaatdo you wanna have any of last nights fish grandmayou can eat it mornin  morninlazy butt youre so slowill fix breakfast tomorrowoh thats a lotoh well youre back to normal today  huh you were so crazy yesterday  what do you mean crazyattention citizens of itomorigood morningthis is an official announcement from itomori town hallit is in regards to the mayoral electionthe election will be held on the th of next monththe election committee would like to remind everyone thacomet to pass by in a month visible to the naked eyea comet that comes only once every  yearswill finally be headed our way in a monththe comet will be visible to the naked eye for several days once it approaches the earthjust make up with him already okay thats an adult matter  according to jaxas spokesperson theyre preparing for the celestial show of the millenniumposition of comet tiamatclosest on october th were leaving  were leavingi cant wait til the festival its gonna be so much funstudy hard sisahmitsuhagood mornin saya mornin teshi mornin  come on would you get off already what for meanie  cause youre heavy hey thats rude  yknow i gotta say you two make a great couple no we dont  no we dontoh i see you actually bothered to do your hair todaywait what oh yeah what happened did your grandma exorcise all your demons exorcise  somethin totally possessed your bodywould you just give it a rest with all this occult nonsense mitsuhas gotta be feelin stressed enough as it is right  what are you guys talking aboutare you feelin okayand above all restoring the towns fiscal health so we can continue our revitalization projectits only when all these things are achieved that we can create a safe and secure community as the incumbent my administration  miyamizus gonna get another term anywayi hear hes been dullin out the pork just between us hey miyamizu  morninlooks like the mayor and the contractors kid are pretty cozy tooto improve the quality of life of each and every resident mitsuha  gaspstand up straight when youre walkingoh hes tough on his familywell thats the mayor for ya awkward  sucks to be hermitsuhain front of everyonewho are youtasokare twilighttwo light thats the origin of the word twilightim sure everyone here knows that wordits dusk a time when its neither day nor nightwhen the border between worlds blurand one might encounter something not humananother older term for it is dusk lightsome people also call it golden hourkaretasokawatare  who is thatwhat about magic hour its something my grandma sayswell golden hour and magic hour are technically the samebut its a term that mostly photographers usewho are you well she does take a lot of pictures  class laughingokay next miyamizu  uh yeswell i can see that you remember your own name todaylaughingyou dont remember mitsuha uhuhwell believe it or not you forgot where your own desk and locker were yesterdayplus you had the worst case of bedhead and you didnt have your ribbon on eitherwhat no wayyeah it was like you had amnesia or somethinnow that you mention it i do feel like ive been havin weird dreams latelylike a dream about someone elses lifeits all so fuzzywait a sec ive got itits memories from a previous lifeor maybe your subconscious linked to the everett interpretation of the multiversekeep your full mouth shutwait a minute teshi dont tell me you were the one who wrote in my noteboo kforget itbut you really were actin just a little funny yesterday mitsuhayou been feelin okaythats whats weird i feel finemaybe its from stress you know youve got that ritual comin up soon dontchaugh dont remind mei cant stand this place anymore its too small and towneyi wanna graduate already and go to tokyo as soon as i cancant say i blame you there really is nothin at all in this towntheres only one train that stops here every two hours and all the stores close at nine o clockno bookstores no dentistsmothers cats eye pubbut two cocktail lounges for whatever reason no jobs in town  no one dateableeven the days are too shortyou know what no what  no whatforget that stuff why dont we go to a café a café  really where  wherehello kids hi there  evenin maam how is this a café  like this towns got a cafémitsuha just went straight home things have gotta be really rough for her right now  shes on center stage and allyeah hey teshi  hmwhat are you gonna do after you graduate high schoolwhered that come from you talkin about the futuremhhmi dunno i think ill probably just end up livin in this town yknow same as everi wanna do what youre doinits still too soon for you to try yotsuhalisten to the threads voicewhen you twine it round and round like this feelings will start flowing between you and the thread its not like threads talk  shes telling you to focusetched within our braided cords is a thousand years worth of itomoris historylisten somethin happened two hundred years agohere she goesthe bathroom of sandal maker mayugoro yamazaki caught on fire and this whole area burned downthe shrine and old documents were destroyed this is known as  mayugoros great firethey named the fire after him i feel bad for mayugorothe meaning behind our festivals was lost because of thatonly the surface was leftbut even if those words are gone those words shouldnt fadethats the miyamizu shrines duty our important taskughdespite all that that soninlaw of mineabandoning the shinto priesthood and leaving this house were bad enough but politicsoh hes hopelesshave another mister foreman ill be counting on your help again for this election  leave it to meyoull get the votes from the kadoiri and sakagami districts guaranteed hows the datin scene  it aint easy thats for sure smells like corruption in there  what are you talkin about were gonna need two or three more bottles  yes dearkatsuhiko youre gonna help out at the site this weekend well be usin explosives so you better study up  grnghwhat was thatgot itguess we both cant stand things hereis that yotsuha shes all grown uptheyre lookers alright just like their mother heya  heyworlds oldest kind of sakebut chewin on rice spittin it out and then lettin it ferment naturally it becomes alcoholkuchikamizakedo the gods really appreciate that the way its mayeah of course they dohey check it out its miyamizuugh id never do that and in front of everybody embarrassing rightyou should try to cheer up siswho cares if a few of the kids from your school saw thatit must be nice for you not being a teenagerhey i know you should just sell kuchikamizake and move to tokyoi bet you could sell it with all sorts of stuff like photos and makingof videosoh and then you can call it shrine maidens sake youll make buttloadsshrine maidens sakei cant there are liquor lawsthats what you have a problem withi hate this town i hate this life tooplease make me a handsome tokyo boy in my next lifewhat a jackassowwherehuhhmmsomethings thereaaaahehtaki you upit was your turn to cook breakfast wasnt it did you sleep inim sorryugh im heading out finish the miso  uh okaymake sure you go to school even if youre late seeyahhave a nice daywhat a strange dreamgasprun youre latehuh its from tsukasawhos that hrmuhhhi gotta go peeway too realshinjuku stationim in tokyojingu high school where did you get this  daikanyamaguess whos opening at our next gig wwait wait we have a gig  hey lets skip club stuff today and catch a movieuhtaaakicant believe you got in at noon come on lets grab lunchyou ignored my text too mr tsukasa  mister you dont have to go that far you got lost  yeahwait a second howd you wind up getting lost on the way to schooluhwell a girl a girla gal hm  hmi mean huh  huha guy nod  nodyknow guys just wanna have fun every days a festival when youre living in tokyo as a guyhey you sound funnyand wheres your lunch seriously  what is up with you we could share somethin  lets make a croquetteegg sandwichyes hahahahaahthank you wanna hit the café later  oh that one sureyou in takiwhat what whata café theyve got nice timberwork in here  yeah its pretty intricatetaki all setuhgaspi could live for a whole month on what these pancakes costuh maybe a decade agohmmmoh well its only a dreamdreams are greathuhwha oh no i think that im late for work you got a shift today  guess you better get goinrightsorry but uhwhere exactly do i work wha  wha tables six seven and ten are waiting  table twelve takigot ithere you goso the zucchini and tomato salad with a side of we didnt order that  wha taki i told you that we are out of truffles  taki you gotta talk loudertakiwhen is this nightmare gonna be overwaiter hey you  uh yessee this does it look right a toothpicks in itwhat would have happened if we ate itits really lucky i noticed when i diddo something uh its just thatwell i dont even think we have toothpicks at thiswhatexcuse me is everything alright over here well like i was trying to tell the guy  ill take care of thiswhats wrong with you todaywe truly apologize your meal is on the house tonightwhy thank youyou werent hurt were you uh oku dera  thats miss to youmiss okudera about before we just had some bad luck is allno i i those guys were definitely scamming usi handled it according to the manual but stilluhms okudera your skirt are you alright  did something happenlooks like someone cut itthat guy do you remember what he looked like  no come with me  hey takiokay take off your skirtwhatn wh ill ill look the other wayhold on this wont take longall done tadayoure really good taki its way cuter nowby the way i wanted to thank you for all your help with that customer earlierto be honest well i was worried about youyou arent that strong but youre quick to pick a fighti like you better todayyouve got a feminine side who woulda guessed mini gotta say this dream sure does seem realah looks like he keeps a journalso organizedi wish i lived in tokyoone of herunrequited lovewalked to the station with ms okudera after work thanks to my feminine powerswho are youmitsuhawhat is thismitsuhawhawhatthanks to my feminine powerswhat is going onso café todaythanks but i gotta go to workha do you remember where to gohuhahwait a second was that you tsukasa are you the one thats been messing with my phoneuh never mindlaterwell hes back to normali think he was kinda cute yesterdayuhhhhhuh whats updont play dumb what about bro code huhyeah you walked home with her yesterday rightuh what are you talking about me and ms okudera so what did you guys do  so what did you guys do  so what did you guys douh well i dont remember actuallyquit messin around and tell usokudera reporting for dutydont slack off today you guys were gonna have a good day today yeaharent we takihmmmmitsuha who are you what are youi see youre not touching your boobies todaybreakfast time hurry upmy boobsmornini feel like everyones starin at me for some reason well you did kinda make a scene yesterday  uhstilllife drawingdid you see all the election postersdoesnt matter who wins nothinll change cept for who gets the kickbackshhh somebodys daddys dependent on ittheyre talking about me rightuh nodwait mitsuhai ii did whatmitsuhawhat is this lifecould this could this meanno no no no could this mean that were reallythat were in our dreams that guy and ithat were in our dreams that girl and ilife in tokyowhat is this life were switching places  were switching placesat last hello youve opened your eyesbut why wont you even look me in the eyes whats wrong with youyou angrily tell me that im latewell im sorry but i did my best and running at my fastest paceim slowly beginning to realize whats going ontakis in high school and living in tokyotwo or three times a week ill suddenly and randomly switch with mitsuha whos somewhere out in the booniesthe trigger is sleep the cause is unknowncondition sleep cause unknownany memories i have of the switch get more and more hazy after i wake upbut theres no doubt that were switching placesthe reactions of everyone around us prove itand thats whythats why we decided to lay out some ground rules so we could protect each others way of lifestrictly forbiddenno baths no looking no touchingthings to watch out for during the switches and a list of stuff we should never dodont waste money no dialect dont be latewe also agreed to leave each other reports on our phones on the days we switch placesso that we can work together to get through this weird thing thats happeningand yetand yet i cannot believe this guy  i cannot believe this girlback in the zenzenzense til this daybeen looking everywhere for youi followed the sound of your innocent laughterand it guided me in the right wayeven if every piece of you disappearedand if it scattered everywhereguys will stare watch the skirtthese are basics for a girlcareful with skirtsstop wasting my money on sweets mitsuha its goin in your body plus i also worked for that moneybraided cordsbraiding cords is impossibleyou work way too many shifts taki cause you keep wasting moneyi wonder if we can push our way throughthe countless barrier thats waiting in the future just beyond our viewsidebyside no way we can losewell beat destiny at its own game and make it follow our own ruleshad tea with ms okudera on the way home you two have a good thing goingquit messing with my relationships mitsuhahey taki why is a girl confessing her love to memaybe youre just more popular when im youyoure so full of yourself like you have a girlfrienddont be so full of yourselfits not like you have anyone either i dont  i dontdummyidiot because i dont want a relationship  because i dont want a relationshipi shouldnt for her sakeyou sure do like your own boobiestime to go get readyover the course of the last few days the tiamat comet has been visible but when and where can people see itcomet tiamat to reach perigeethe tiamat comet will be moving in the same direction the sun does from east to west from our point of viewwhy are you wearin your uniformgrandma why does our shrine gods relic have to be kept so far awaycause of mayugoro i dont really know whos mayugoro  what hes famoushop on grandma oh  watch out carefulmitsuha yotsuha do you know about musubimu subiits what we used to call the local guardian deity long ago and it means unionthis word has profound meaningtying strings together is a union connecting to people is a union and the flow of time is a unionthese are all part of the gods power the braided cords that we make are tied to thata skill from the god they represent the flow of time itselfthey assemble and take shape they twist tangle unravel now and then breakand reconnectthats what a union is what time is have a drink  thanks i want some too  thats also a unionwhether its water rice or sake when something becomes a part of a person its a unionit joins their soul which is why the offering were making today is such an important customit connects the god with peoplehey i can see itthis is where it is the sacred relic of miyamizu shrinewhat lies ahead is the hereafter its the netherworldthe netherworldin order to return to this world you have to leave behind what is most important to youlike the kuchikamizakekuchikamizakeyoull offer it at the foot of the shrine gods relic after all it is half of youhalf of mitsuhawow its already magic hourmagic hour oh yeah maybe i can see the comet  huh the cometoh mitsuhayoure dreaming right now arent youim crying but whyim almost there looking forward to itms okudera shes almost whereoh mitsuha what did you dodatetomorrows your tokyo date with ms okuderameet up at the station at well thats what i had planned but hi taki  huh agh wait long  yeah aahno uh i just got here  thank goodness lets gomust be nice theyve probably met up about nowhuhwhy am iwhyit was a date i wanted to go on but if it so happens that you end up goin you better be grateful and enjoy itthis is nice its my first time here so is this one of your usual goto spotsat any rate i bet youve never even been on a single dateno way its too expensivei dont know what to say to herthats why ive handpicked some links below to help you out ya wallflowerfor realyou too can get a girlfrienddespite social anxiety i got a girl the dos and donts of textingshes making fun of mephoto exhibition nostalgiayou know something takitoday youre youre like a different personms okudera you getting hungry we could get dinner uh lets call it a day  uuh alright i could be wrong and im sorry if i am  aboutbut you used to have a little crush on me am i rightbut right now theres someone else you like huh nnno uuhits not that  really theres no one its not like that  are you sure about thatwell thanks for today see you at workby the time the dates overyou should be able to see the comet in the sky you should be able to see the comet in the skywhat does she mean weirdoohits you teshino i just didnt feel like goin thats all im finewhat the festivalahoh yeah the comet itll be at its brightest today rightokay got it seeya lateryoure just looking forward to seeing mitsuha in a yukata arentchai i am noti mean it didnt even cross my mind yknow she sounded kinda down when i talked to her  maybe she just didnt want a call from yaits not funny sorry to keep ya  oh shes here  youre late gasp  gasp mitsuha what happened to  gaspyour hairi guess its weirdyou think its gotta do with some guy like he broke her heartguys always just assume that it has to do with a boy she said she felt like cuttin it  ya sure about that you really think she felt like cuttin off that much of ithey guys i can see it whoa hoho  whoa  ahhuhthe number you are trying to reach is currently outside the cellular network or has been turned off dueill just have to tell her how lousy the date ended up the next time we switchthats what i thoughtbut for some reasonthe switches mitsuha and i had been going through until nowthey never happened againmountains in gifu prefecturehida mountainswhawhat arewhat are you doing heretsukasa told me about it so here i ami asked for two things to cover my shift and to back up my alibi if my dad askedrelax takagis gonna take your shiftgotcha coveredbut you owe me dinner so youre all in on it  youve got everyone worried about you huh  we cant ignore this what if somebodys trying to pull one over on youlike catfishi mean you met this person online didnt youno not exactly its kinda complicated could be from a dating site  shes notits because youve been acting awfully fishy lately so were keeping an eye on youi dont need a babysitter okaythe switches stopped my calls never connected and texts never went throughthats why i decided to go see mitsuha in personi wanted to see her butwhat you dont know where she is exactly the towns landscape is your only clueyeahand you cant contact her whats that aboutwhere are we youre a terrible tour guide cause im not oneoh well guess well help you search aww its so cute look taki  seriously guysit moved awwwthis is a lost cause what  whatafter everything that weve done for you todayyou havent done anything one takayama ramen  one takayama rameni guess ill have the samesurethree orders of ramen chef got it think we can make it back to tokyo tonight  well i think well be cuttin it closelet me take a look k thanks  wait taki you sure about thatyeah i kinda feel like maybe ive been barking up the wrong tree this whole timehey thats a sketch of itomori isnt itits drawn really wellcome take a look at this honyeah thats itomori takes me backmy husband was born and raised there you knowitomoriyes of course thats the place its nearby rightyou dontitomori wasitomorigasp but thats where  wait isnt that the area where that comethuhkeep outheyis this place really where shes fromtsukasa no way taki must have just confused this with somewhere elseno i didntthis was the placethe schoolyard these mountainseven this high school herei remember it alltheres no way you couldyouve gotta know about that disaster three years ago right hundreds of people died  they diedthree years agoit cant betheres no wayi meani still have the memos she wrotetheyre fadingcomet tiamat with an orbital period of  yearsitomori the town that vanishedmade a close approach to earth three years ago in octobermeteor strikes wipes out townnobody foresaw that its nucleus would split at its perigeetown annihilatedover  dead or missingitomori the town that vanisheda fragment that broke off of it became a meteor and struck japanitomori comet damageit looks like that day was the same date as the autumn festivalthe point of impact was hereat  pm  it fell right around where people were gathered for the festivalnames of the victimsover  diedit was a third of the towns populationand now nobody lives in itomori anymoreteshigawaraand sayakamitsuha miyamizuthats heryou were wrong you gotta beafter all this girl here died three years agojust two or three weeks ago she said that id be able to see the cometthat means youre dreaming right now arent you  iiwhatwas isounds lively over therethey only have one room left im really sorryits not a problemhows takihes still reading articles on itomorihes goin through all those newspapers and magazines at random seems obsessive what is it  oh sorry you smoke huhyeah i did quit at one pointwhat do you think about what takis been sayingi had feelings for him yknowthe way hes been recentlyi mean he was a nice guy before but hes even nicer nowkindof franticit was cutealthough i do think what hes been telling us is definitely strangesoundingbut in the end the fact remains that takis met someone and that someone is the reason he changedthat much is for sureworstever itomori comet disasterit was all just a dreami recognized the landscapebecause i unconsciously remembered the news from three years agoif its not that is she a ghostordid i just make it upthe whole thingwhat was her namei cant remembertsukasa said he was gonna go ahead and take a bathms okuderauhi umi realize ive been saying a lot of strange thingsim really sorry and thank youthe tatara ironmaking sitethe braided cords of itomoribraided cords prettythat band on your wrist thats one isnt it  hm ohthis thing guess sosomebodysomeone gave it to mei wear it sometimes as kindof a lucky charmwho was it its late why dont you go down and take a bath too  surewaityeah someone who makes thesethey once told me somethingthe cords represent the flow of timethey twist and tangleunravel and connectand thats what time ismaybe if i couldaround heretakitakitakidont you remembergaspi have to go somewhere go back to tokyo without me ill return later thankstakieat this bento up thereyour drawing of itomori you did a real good jobthey assemble and take shapethey twist tangleunravel now and thenbreakand reconnectthats what a union iswhat time isthere it isits really thereit wasnta dreamwhat lies ahead is the netherworldits still herethis was yotsuhas and this was minethis was before the cometso when i switched places with herit was also three years in the pastour times got tangled somehowthis is half of hermusubiif its true and time can be unraveledjust give me one more chanceaghgaspa cometngh hhheartbeat crying  your names going to bemitsuhaboth of you are my treasuresyoure going to be a big sisterget well soon momim so sorry my dearsdad when is mommy coming home i couldnt help her  get ahold of yourself who cares about the shrine  but youre in charge now i loved futaba not miyamizu shrine  get outnow listen to me girlsstarting today youll be living with grandmawho are youwho am i who are youmitsuhaidiotdont be full of yourselflike you have a girlfriendmust be nicetheyve probably met up about nowwhy am i im going to tokyo  what wait sisgrandmawould you mind doing me a favoroh yeah the cometitll be at its brightest today rightmitsuha dont go theremitsuhayouve gotta get out of town before the comet strikesgaspmitsuha runmitsuha mitsuha mitsuhagaspmitsuhashes alivesobbinglet me guess youre touching your boogaspcrying her sisteryotsuhaunghshudderi think shes finally lost itjust for today iim gonna head out firstshes lost itreally lost ittotallytotallyfor all you stargazers out there the comet tiamat has been visible to the naked eye for about a week nowtonight it will finally reach its perigee around  pm  and be at its maximum brightness when viewed from the earthsits tonight theres still time leftmornin mitsuhawhats thishold on youre not mitsuha are you  wwait how did youyou already knewno but watching the way youve been behaving lately stirred some memories upwhen i was a young girli had some pretty strange dreams myselfhuhthough its been so long the memories of who i became in those dreams have pretty much faded at this pointfadedtreasure the experience dreams eventually will fade awayi went through similar times myselfand so did your motherwhat ifall those dreams that the miyamizu people hadit had to do with todaygrandma you have to listen to metonightthe comet is going to fall on itomori youre all gonna die  huhnobodys gonna believe thati didnt expect that out of mitsuhas grandmait doesnt matter theres no way im gonna let them all diemitsuhawhat happened towhatd youyour hairugh the haircut looked better before huh no iiits goodnevermind that if we dont do something about tonight well all dieits up to us to save everyonewait shouldnt you be in schoolwell we sortof have to save the town or somethingheh the warning system  yeah those speakers all over the townsuperimposition frequencyi get it it could work niiiice job teshi  hey i dont think you should be sittin so close to me whats wrong uhoh you shyyy  would you quit itit aint proper and you know itclub discontinued  keep outthahahahahasuch a gentlemani bought all the snacks guys heres the change  sorry for the troublei didnt mind we oughta be gettin paid  quit complainingso whadcha come up withgot an evacuation plana aa bombyeah we have water gel explosives we use for construction at our storage siteand the warning systemour startup frequency can hijack the towns warning system pretty easilyso we can broadcast an evacuation warning for the whole town right from schoollook were outside the disaster area hereso well just make an announcement to evacuate to the schoolits its totally a crime  youll be in charge of the broadcast saya why me  youre in the broadcast club and ill be in charge of the explosives  while i go have a word with the mayor why  cause if the evacuation orders not comin from town hall then nobodys gonna go anywaybut if i talk to the mayor as his daughter i can convince himits the perfect planfine i dont really care one way or the otherthis is just a theory of yours rightwelltheories can be based on reality like do you know the story of how itomori lake was formed its a cratera meteor crater lake formed  years ago that means a meteor hit this area at least once a thousand years ago  right thats whynice one teshi lets go evacuate the town  lets go evacuate the townwhat on earth are you talking aboutlike i saidwe have to evacuate everyone in town before tonight or else enough shut upthe comets going to split in two and strike the townitomori town hallover  will diehow dare you stand there and spout such nonsenseif youre serious you must be sicki guess recklessness is a miyamizu traitill have a car take you to the city hospital for an examinationwe will continue this discussion after youve seen a doctoryouyou son of a mitsuhanowait a minutewho are youill see you guys at the festival babye well meet ya at the step stone shrine dont be late k babye  seeya  lateryou shouldnt goyouve got to leave town tell all of your friends whats wrong with you mitsuha  what was that about  come on lets gowhat are you doing huhif it was mitsuhawould she have been able to convince him is all this my fault  huhyotsuha promise me that youll leave town with grandma before darkwhat youre gonna die if you stay here  what are you talking aboutand why did you suddenly go to tokyo yesterday youve been acting really strange lately went to tokyo  hey mitsuhahowd it go with your old manhey mitsuhawhats with your sisterdont knowdingcould she be over therewhats that whats over there let me use your bike teshi  heymitsuhaand what do we doget things ready like we plannedim counting on youoh my gosh im taki againwhats taki doin out herethe townits gonesodoes that meani diedtakitakidont you rememberim going to tokyo for a few hourswha right now but why  uhfor a date you have a boyfriend in tokyo  ii didnt say it was a date for meill be back tonightif i suddenly show up will it be a nuisance or a surprisehe might not like it if i dothe number you are trying to reach is currently outside the cellular networki guess it wont happen butwhat if it didwhat would i dowould i annoy himtiamat makes closest approach tomorrowwould it be awkward or maybehed be glad to see methe number you are trying to reach is currently outside the cellular networki guess we wont meetbut theres one thing im certain ofif we see each otherwell definitely know right awaythat you were the one who was in meand that i was the one who was in you  sorrygaspscuse meaghthat timethree years agobefore i even knew youwhispering takitaki taki  huhuh its me dont you remember  uhsorry who are youi im sorryahbut hes takiwhat a weird girltrain announcer yotsuya yotsuya stay clear of the doors hold on  huh egh  whats your namemitsuhamy name ismitsuhathree years agoyou showed upit was to see memitsuha as taki takiechoing mitsuhatakimitsuhayoure here rightinside my bodytakitaki where are youthat was mitsuhai can hear her voice buttaki where are youtakiding uh  huhmitsuha as taki taki are you taki as mitsuhai are you there magic hour  magic hourgaspuhmitsuhatakitakisobbing youre really here taki  i came all this way to see youwhich wasnt easysince you were pretty far awayhow is that evenbecause back thenwell i drank some of your kuchikamizakehuhohyou you drank thathuh stupid pervert  whawhayeah thats right you were touching my boobies werent youwha  whahohow do you even   cause yotsuha saw youi justi couldnt help myself but it was just the one time  just the one timehow many times is it the issuesorrywaitis thatohyeah its yours but you visited before i knew youso i didnt know who you wereherei kept it for three yearsbut i think its time you got it back whaddya think  oh uh well its not bad  oh youre lyinbustedwhy you gotta be like that laughing  laughinghey mitsuhayou still have a lot to dolisten its coming  dont worry you still have enough time  nodill do my bestit looks like magic hour is almostoverhey mitsuhajust so we dont forget things when we wake uplets write down our namesheremitsuhaheymitsuhai was planning to tell youthat wherever you are in the worldi swear that ill find you again no matter whatyour nameis mitsuhaitll be okayill remembermitsuhamitsuhamitsuhayour name is mitsuhayour name iswhoare youand whatdid i even come here fori camei came all this way to see heri came to save heri wanted her to be alivewho was it againwhowho did i come to seesomeone precioussomeone i dont wanna forgetsomeone i shouldntwho was itwho was itwhowhowhats your nametakitakitakiitll be finei rememberill never forgettakitakiyour name istakiitomori substationteshimitsuha where the heck have you been  he said sorry for breakin your bikewha who didi didyoure gonna have to explain it to me laterthat thing is gonna fall right for real  for real i saw it with my own eyeswhat you did huhwell i guess its settled thenwere both officially criminalsbroadcasting roomwhat do i really have toonce the towns power goes out the emergency generator should kick in right awayuse the broadcast equipment once it doesdont be scared saya and repeat it as many times as you canwoohoo you can do it  aw nuts its do or die shouldnt it be goin off  hell if i know oooh  ha ha what was that  it was pretty loud toolook over there hey look up there  whoathis is itomori town hall reports of an explosion at the substation are coming in  an explosion did i hear that rightwildfires are possible as well as the threat of more explosionsresidents in the followin areas please evacuate to itomori high school immediatelykadoiri district sakagami district  honey we should gothe broadcast isnt coming from us well who the hell is it thenmiyamori districtoyazawa districtlets go mitsuhateshi everyone run theres a wildfire  wildfire please run get outta here run theres a fire  its not safe here please evacuateits not workin were runnin out of time mitsuha  sobbingwhats wrongwhat is iti cant remember what his name is anymorewhat is with you youre the one who started all of thiswe cant evacuate everyone without firefightersget goin you gotta convince your old maneverybody get to the high school hurryoh its mitsuhawhy would terrorists attack way out here what is chubu electric saying theyre still checkingany update no wildfires yetyou sure got itmake them stop this broadcast immediately havent you located its source yetmayor the takayama sensor station just calledfrom the high schoolonce again residents in the following areas please evacuate to itomori high ah  what are you doing turn that off they got saya  oh nowhat were you thinking natori i swearthis is itomori town hallwe are currently confirming the reports of the accident we instruct all residents to remain calm and stay where they are until further notice  i guess we have to stay put what is goin on  so stay on standbycome on they said everyone should evacuate the high schools the evacuation centerkatsuhikotell mewhat do you think youre doingsorry mitsuhathis is the endgaspoh my godits actually splittin apartlook at that the comet has split into two large parts and meteors are now falling to earth uh i dont believe anyone could have predicted this  either way we have quite the mystical view hereso what does the comets nucleus splitting mean for usthe comets not within the roche limit so the nucleus itself mustve had a structural weakness for this to happencomet shoemakerlevy  broke apart and collided with jupiter in  there were at least  fragments  im going outside to take a look the fragments will likely burn up well before reaching the ground  does it pose a dangerprobability of a meteor actually landing on a populated area is quite smallnever foresaw this development to predict the trajectory  as we stand here witnessing this spectacleunassistedand with our bare eyesit strikes me that living in such an age has never felt more fortunate than nowheywhoare youwhowhowho is hesomeone precioussomeone i shouldnt forgetsomeone i didnt want towhowhowho are youwhats your nameoh noah arghunghso that we dont forget things when we wake uplets write down our namesi love youwriting thisdoesnt helpi wont know your namecryingdad mitsuha  there you aredont tell me youre backahit was almost like seeing something out of a dreamnothing more or lessthan a breathtaking viewwords like tomorrow or future or fateno matter how far they extend their handswe breathe we dream we raise our lovein a timeless land that is far out of reacheven the second hour hands of the clockthey look at us sideways as they tick and tockhow i hope to have forever to spend this lifeno all future livesright here in this world with youhuhwhy am i herewhat am i doinggaspuuhthe doors are closing please be carefulim always searching for somethingthis feeling has consumed mefor some timethe reason i applied for this positionthe landscapes people live into build a citys landscapeeven tokyo it might vanish too one dayand so i wanna make landscapes that how should i put thisthat can continue to warm peoples heartssighthat bad how many does that make itive stopped counting tsukasa doesnt sound too promising who asked you  that suit could be the problemit looks just like yours well i have two offers  i have eight myselfline you have a new messageis what im searching forsomeoneor somewhereor am i just searching for the right jobi dont even really knowoh youre job hunting huh  i havent had much luck though hey maybe its the suit thats killing your chances  uhdoes it really look that bad on meso why the sudden call todayi was in the area for work and i figured it had been a while since i saw your face years since the comet disasterremember that one time when we went all the way to itomoriyou were still in high school back then so it was heh five years ago  that longit seems likeive forgotten a loti dont remember all that much eitherabout back thenmaybe we arguedshe and tsukasa went back to tokyo without mei spent the night alone on some mountainthats about all i rememberbut at one point in time i found myself strangely drawn to the incident involving that cometa fragment of the comet destroyed a town in that disasterevacuation of residents to high school grounds confirmedbut miraculouslymost of the people living in the town were unhurtthe town happened to be holding an emergency drill that dayno deaths  woundedan unprecedented natural disasterand most of its residents were outside the impact zoneresidents safedisaster foretoldthe sheer luck and coincidence of it all sparked various conspiracy theoriesmayor miyamizus hidden agendai read a lot articles about it back thenmysterious explosion at the substationi was kindof obsessedbut whatever the reason i had for my interest is a mystery to me nowi didnt even know anybody in that townthanks for today this is far enoughi do hopethat at some pointyoull find happiness tooi feel like im always searchingfor somethingsomeoneconstruction company job interviewi feel like i do wanna go to one more bridal fairtheyre all the same a shinto weddin sure sounds nice too  you said you wanted to be married in a chapel oh that reminds me teshi  uhwould ya please shave before the ceremony im goin on a diet for it you knowshe says as shes eatin a cake ill get serious tomorrow  uhdinggaspsighitomori the town that vanishedoctober    itomori vanishedkadoiri bridgeitomori elementary schoolmiyamizu shrinethe landscape of a town thats no longer therewhy does looking at it make my chest feel so tightnow just a little moreonly just a little morelets stay here a little longer nowjust a little moreonly just a little morelets stick together just a little bit longerjust a little moreonly just a little morelets stay here a little longer nownow just a little moreonly just a little morelets stick together just a little bit longeri was always searching mitsuha searching forsomeoneoh yes we are time fliersscaling the walls of time climbertired of playing hideandseek with time andalways comin dead shortill never let you go nowpromise i will never let you go nowcause my hand finally has reached yourswhy should i have tooh youre sure quite a showy crierwanna stop your tearssee your eyes drierbut when i went to wipe your tears dryyou refused but i saw them pouring down your face i knew whycrying even when youre happysmiling even when youre feeling lonelyits because a part of youhas made it here before the rest hasexcuse mehavent wehave imet you somewherei thought so too can i ask you  can i ask you your name  your namethe sorrowful gust of wind that blew right between you and mewhere did it find the loneliness it carried on the breezelooking up at the sky after shedding a stream of tearsi could see for miles of blue its never been so clearspeeches that my father gave me would always make me despairsomehow i feel a warmth and comfort todayyour ever kind heart the way you smile and even how you find your dreamsi knew nothing so honestly ive always copied younow just a little moreonly just a little morelets stay here a little longer nownow just a little moreonly just a little morelets stick together just a little bit longeroh yes we are time fliersscaling the walls of time climbertired of playing hideandseek with time andalways comin dead shortcrying even when youre happysmiling even when youre feeling lonelyits because a part of you has made it here before the rest hasi used to wish upon the stars the toys that i once adoredforgotten now are rollin round the corners of the floorfinally my dream has counted up to a hundred todaysomeday ill trade them all for just the very onegirl that i have seen in school that never have told helloafter class today i waved and said see you tomorrowits not really that bad trying something new every once in a whileespecially if i can do it with you by my sidenow just a little moreonly just a little morelets stay here a little longer nowjust a little moreonly just a little morelets stick together just a little bit longeroh yes we are time fliers so and ii knew who you were way beforeway before i even knew my own nametheres no clue but im sure i sweareven if youre not around in this wide worldof course it surely would have some kind of meaningbut if when youre not around in this crazy worldwould be like the month of august without summer breakand if youre not around in this great worldwould be like santa claus without any gleeif youre not around in this wide worldoh yes we are time fliersscaling the walls of time climbertired of playing hideandseek with time andalways comin dead shortno never mind thatno never mind what i said nowcause im on my way to youoh we are time fliersdashing up the steps of time nowno more playing hideandseek with you and timeand always comin dead shortyoure quite a showy crierwanna stop your tearssee your eyes drierbut when i went to wipe your tears dryyou refused but i saw them pouring down your face i knew whycrying even when im happysmiling even when im feeling lonelyits because the heart of minehas made it here before my body\n"
          ],
          "name": "stdout"
        }
      ]
    },
    {
      "cell_type": "code",
      "metadata": {
        "colab": {
          "base_uri": "https://localhost:8080/"
        },
        "id": "I3tvQSo2-zEr",
        "outputId": "ee22b02e-2ef0-4fc8-9280-70b3a4093e2e"
      },
      "source": [
        "char_map = list(sorted(set(trans)))\n",
        "char_dict = dict([(y,x+1) for x,y in enumerate(char_map)])\n",
        "char_map = [\"\"] + char_map\n",
        "print(char_map)\n",
        "print(char_dict)\n",
        "print(len(char_dict))"
      ],
      "execution_count": 11,
      "outputs": [
        {
          "output_type": "stream",
          "text": [
            "['', ' ', 'a', 'b', 'c', 'd', 'e', 'f', 'g', 'h', 'i', 'j', 'k', 'l', 'm', 'n', 'o', 'p', 'q', 'r', 's', 't', 'u', 'v', 'w', 'x', 'y', 'z', 'é']\n",
            "{' ': 1, 'a': 2, 'b': 3, 'c': 4, 'd': 5, 'e': 6, 'f': 7, 'g': 8, 'h': 9, 'i': 10, 'j': 11, 'k': 12, 'l': 13, 'm': 14, 'n': 15, 'o': 16, 'p': 17, 'q': 18, 'r': 19, 's': 20, 't': 21, 'u': 22, 'v': 23, 'w': 24, 'x': 25, 'y': 26, 'z': 27, 'é': 28}\n",
            "28\n"
          ],
          "name": "stdout"
        }
      ]
    },
    {
      "cell_type": "code",
      "metadata": {
        "colab": {
          "base_uri": "https://localhost:8080/"
        },
        "id": "7rFecjgGRM6u",
        "outputId": "50a9facc-bd9a-4c25-acea-5b954e0ea0ae"
      },
      "source": [
        "# Check an example\n",
        "subtitle_item = subtitle_lookup.iloc[0, 3].lower()\n",
        "subtitle_item = subtitle_item.translate(str.maketrans('', '', string.punctuation))\n",
        "print(subtitle_item)\n",
        "\n",
        "vec = []\n",
        "for char in subtitle_item:\n",
        "  vec.append(char_dict.get(char))\n",
        "print(vec)"
      ],
      "execution_count": 12,
      "outputs": [
        {
          "output_type": "stream",
          "text": [
            "toho corporation\n",
            "[21, 16, 9, 16, 1, 4, 16, 19, 17, 16, 19, 2, 21, 10, 16, 15]\n"
          ],
          "name": "stdout"
        }
      ]
    },
    {
      "cell_type": "markdown",
      "metadata": {
        "id": "LQBlfEn7aqF9"
      },
      "source": [
        "### 2.2.2 Dataset"
      ]
    },
    {
      "cell_type": "code",
      "metadata": {
        "id": "z3gphrcBawKr"
      },
      "source": [
        "class KnnwAudioDataset(torch.utils.data.Dataset):\n",
        "    \n",
        "    def __init__(self, \n",
        "                 audio_path=\"./knnw_en.log_spectrogram.npy\",\n",
        "                 subtitle_lookup_path=\"./knnw_en_sub.csv\",\n",
        "                 total_frames=1370582, \n",
        "                 total_duration=6396010):\n",
        "        \n",
        "        self.duration_per_frame = total_duration / total_frames\n",
        "        \n",
        "        self.audio = np.load(audio_path)\n",
        "        self.audio = np.transpose(self.audio)\n",
        "        \n",
        "        self.subtitle_lookup = pd.read_table(subtitle_lookup_path, \n",
        "                                                 sep = \";\", header=0)\n",
        "        \n",
        "        self.length = len(self.subtitle_lookup)\n",
        "        \n",
        "    def __len__(self):\n",
        "        \n",
        "        return self.length\n",
        "    \n",
        "    def __getitem__(self, i):\n",
        "        \n",
        "        start_time = self.subtitle_lookup.iloc[i, 1]\n",
        "        stop_time = self.subtitle_lookup.iloc[i, 2]\n",
        "        \n",
        "        audio_range = self.get_range(start_time, stop_time)\n",
        "        \n",
        "        audio_item = self.audio[audio_range, :]\n",
        "        res_audio = torch.from_numpy(audio_item).float()\n",
        "        \n",
        "        subtitle_item = self.subtitle_lookup.iloc[i, 3]\n",
        "        subtitle_item = self.get_tokenization(subtitle_item)\n",
        "        subtitle_item = self.get_charmap(subtitle_item)\n",
        "        res_subtitle_item = torch.tensor(subtitle_item)\n",
        "        \n",
        "        return res_audio, res_subtitle_item\n",
        "        \n",
        "    def get_index(self, time, start_flag):\n",
        "        \n",
        "        if start_flag == True:\n",
        "            return np.floor(time/self.duration_per_frame)\n",
        "        \n",
        "        else:\n",
        "            return np.ceil(time/self.duration_per_frame)\n",
        "        \n",
        "    def get_range(self, start_time, end_time):\n",
        "        \n",
        "        start_index = self.get_index(start_time, start_flag=True)\n",
        "        stop_index  = self.get_index(end_time, start_flag=False)\n",
        "        \n",
        "        return range(int(start_index), int(stop_index))\n",
        "    \n",
        "    def get_tokenization(self, subtitle_item):\n",
        "        # Tokenization as did in the char_map section\n",
        "        for item in label:\n",
        "            if item in subtitle_item:\n",
        "                subtitle_item = subtitle_item.replace(item, \"\")\n",
        "        subtitle_item = subtitle_item.lower()\n",
        "        subtitle_item = subtitle_item.translate(str.maketrans('', '', string.punctuation))\n",
        "        subtitle_item = subtitle_item.replace(\"”\",\"\")\n",
        "        subtitle_item = subtitle_item.replace(\"“\",\"\")\n",
        "        subtitle_item = ''.join([i for i in subtitle_item if not i.isdigit()])\n",
        "        return subtitle_item\n",
        "\n",
        "    def get_charmap(self, subtitle_item):\n",
        "        vec = []\n",
        "        for char in subtitle_item:\n",
        "            vec.append(char_dict.get(char))\n",
        "        return vec"
      ],
      "execution_count": 13,
      "outputs": []
    },
    {
      "cell_type": "code",
      "metadata": {
        "id": "F333Et1Aa6no"
      },
      "source": [
        "knnw_dataset = KnnwAudioDataset()"
      ],
      "execution_count": 14,
      "outputs": []
    },
    {
      "cell_type": "markdown",
      "metadata": {
        "id": "vPLEe3DLawRW"
      },
      "source": [
        "### 2.2.3 Dataloader"
      ]
    },
    {
      "cell_type": "code",
      "metadata": {
        "id": "1ZadVsLYayKS"
      },
      "source": [
        "def pad_collate(batch):\n",
        "    (xx, yy) = zip(*batch)\n",
        "\n",
        "    x_lens = torch.LongTensor([len(x) for x in xx])\n",
        "    y_lens = torch.LongTensor([len(x) for x in yy])\n",
        "\n",
        "    xx_pad = pad_sequence(xx, batch_first=True)\n",
        "    yy_pad = pad_sequence(yy, batch_first=True)\n",
        "    return xx_pad, yy_pad, x_lens, y_lens"
      ],
      "execution_count": 15,
      "outputs": []
    },
    {
      "cell_type": "code",
      "metadata": {
        "id": "2PtMIsF8ayMf"
      },
      "source": [
        "# Train data set\n",
        "knnw_loader = data.DataLoader(\n",
        "           dataset=knnw_dataset, \n",
        "           batch_size=64,\n",
        "           num_workers=4,\n",
        "           collate_fn=pad_collate,\n",
        "           shuffle=True,\n",
        "           drop_last=True,\n",
        "           pin_memory=True)"
      ],
      "execution_count": 16,
      "outputs": []
    },
    {
      "cell_type": "code",
      "metadata": {
        "id": "bq1isF4LbG5h",
        "colab": {
          "base_uri": "https://localhost:8080/"
        },
        "outputId": "263db8a3-ca55-4cff-99ad-42a3d3f1df2d"
      },
      "source": [
        "# Check an example\n",
        "x, y, x_lens, y_lens = next(iter(knnw_loader))\n",
        "print(x)\n",
        "print(x.shape)\n",
        "print(y)\n",
        "print(y.shape)\n",
        "print(x_lens)\n",
        "print(y_lens)"
      ],
      "execution_count": 17,
      "outputs": [
        {
          "output_type": "stream",
          "text": [
            "tensor([[[-2.6882, -0.1866,  0.3615,  ..., -9.1843, -9.1773, -9.2103],\n",
            "         [-3.3467,  1.1131,  1.1554,  ..., -9.2003, -9.1987, -9.1868],\n",
            "         [-2.3679,  0.4102,  1.8395,  ..., -9.1754, -9.1440, -9.1491],\n",
            "         ...,\n",
            "         [ 0.0000,  0.0000,  0.0000,  ...,  0.0000,  0.0000,  0.0000],\n",
            "         [ 0.0000,  0.0000,  0.0000,  ...,  0.0000,  0.0000,  0.0000],\n",
            "         [ 0.0000,  0.0000,  0.0000,  ...,  0.0000,  0.0000,  0.0000]],\n",
            "\n",
            "        [[-1.9058,  1.8347,  3.1142,  ..., -9.1914, -9.1329, -9.1959],\n",
            "         [-0.2656,  1.8672,  4.3947,  ..., -9.1660, -9.1774, -9.2103],\n",
            "         [-0.7664,  1.6795,  3.4855,  ..., -9.1845, -9.1818, -9.2062],\n",
            "         ...,\n",
            "         [ 0.0000,  0.0000,  0.0000,  ...,  0.0000,  0.0000,  0.0000],\n",
            "         [ 0.0000,  0.0000,  0.0000,  ...,  0.0000,  0.0000,  0.0000],\n",
            "         [ 0.0000,  0.0000,  0.0000,  ...,  0.0000,  0.0000,  0.0000]],\n",
            "\n",
            "        [[ 0.7356,  3.9302,  2.6976,  ..., -9.1010, -9.2066, -9.1625],\n",
            "         [-5.3542,  4.1487,  2.5199,  ..., -9.1808, -9.1909, -9.1466],\n",
            "         [-1.1504,  4.7950,  1.1266,  ..., -9.2053, -9.1773, -9.2081],\n",
            "         ...,\n",
            "         [ 0.0000,  0.0000,  0.0000,  ...,  0.0000,  0.0000,  0.0000],\n",
            "         [ 0.0000,  0.0000,  0.0000,  ...,  0.0000,  0.0000,  0.0000],\n",
            "         [ 0.0000,  0.0000,  0.0000,  ...,  0.0000,  0.0000,  0.0000]],\n",
            "\n",
            "        ...,\n",
            "\n",
            "        [[ 2.7418,  5.7570,  5.6337,  ..., -9.1800, -9.1987, -9.2074],\n",
            "         [ 0.6612,  6.2778,  5.0898,  ..., -9.1932, -9.0486, -9.2072],\n",
            "         [ 1.6251,  2.2197,  4.7660,  ..., -9.0843, -9.2103, -9.2023],\n",
            "         ...,\n",
            "         [ 0.0000,  0.0000,  0.0000,  ...,  0.0000,  0.0000,  0.0000],\n",
            "         [ 0.0000,  0.0000,  0.0000,  ...,  0.0000,  0.0000,  0.0000],\n",
            "         [ 0.0000,  0.0000,  0.0000,  ...,  0.0000,  0.0000,  0.0000]],\n",
            "\n",
            "        [[ 0.8195,  5.0955,  3.0156,  ..., -9.2012, -9.0453, -9.1804],\n",
            "         [-0.1365,  3.7376,  5.1713,  ..., -9.1859, -9.1583, -9.2103],\n",
            "         [ 1.1577,  4.9950,  2.5764,  ..., -9.1269, -9.2094, -9.2016],\n",
            "         ...,\n",
            "         [ 0.0000,  0.0000,  0.0000,  ...,  0.0000,  0.0000,  0.0000],\n",
            "         [ 0.0000,  0.0000,  0.0000,  ...,  0.0000,  0.0000,  0.0000],\n",
            "         [ 0.0000,  0.0000,  0.0000,  ...,  0.0000,  0.0000,  0.0000]],\n",
            "\n",
            "        [[ 0.1100,  1.3091,  5.7268,  ..., -9.1725, -9.1835, -9.2010],\n",
            "         [ 0.3641,  1.9776,  4.7741,  ..., -9.1964, -9.1569, -9.1436],\n",
            "         [ 2.3420,  1.5940,  5.2051,  ..., -9.1419, -9.2090, -9.2013],\n",
            "         ...,\n",
            "         [ 0.0000,  0.0000,  0.0000,  ...,  0.0000,  0.0000,  0.0000],\n",
            "         [ 0.0000,  0.0000,  0.0000,  ...,  0.0000,  0.0000,  0.0000],\n",
            "         [ 0.0000,  0.0000,  0.0000,  ...,  0.0000,  0.0000,  0.0000]]])\n",
            "torch.Size([64, 1718, 129])\n",
            "tensor([[16, 19,  1,  ...,  0,  0,  0],\n",
            "        [ 2, 15,  5,  ...,  0,  0,  0],\n",
            "        [ 8, 16, 16,  ...,  0,  0,  0],\n",
            "        ...,\n",
            "        [ 8, 16, 21,  ...,  0,  0,  0],\n",
            "        [ 2, 15, 26,  ...,  0,  0,  0],\n",
            "        [10, 21,  1,  ...,  0,  0,  0]])\n",
            "torch.Size([64, 113])\n",
            "tensor([ 320,  701,  419,  320,  244,  689, 1002,  496,  340,  544,  455, 1006,\n",
            "         216,  500,  704,  554,  890,  323,  477, 1032,  334,  625,  564, 1718,\n",
            "         665,  391,  569,  747,  485,  616,  417,  664,  665,  592,  766,  727,\n",
            "         824,  430,  503,  972,  303,  456,  357,  910,  524,  511,  618,  601,\n",
            "        1306,  633,  374,  378, 1426,  703,  344,  997, 1285,  577,  721,  901,\n",
            "         427,  228,  539, 1566])\n",
            "tensor([ 12,  33,  29,   5,   7,  53,  64,  40,  10,  17,  23,  52,   2,   4,\n",
            "         52,  25,  50,   7,   3,  54,  20,  23,  14,  38,  30,  13,  38,  48,\n",
            "         25,  26,  28,  35,  49,  23,  65,  52,  45,  15,  33,  47,  10,  18,\n",
            "         28,  48,  11,  13,  30,  28, 113,  43,  17,  33,  91,  49,   4,  73,\n",
            "         55,  20,  52,  64,  36,   6,  27, 109])\n"
          ],
          "name": "stdout"
        }
      ]
    },
    {
      "cell_type": "markdown",
      "metadata": {
        "id": "lI-_gOYv05M4"
      },
      "source": [
        "## 3.1 Model"
      ]
    },
    {
      "cell_type": "code",
      "metadata": {
        "id": "HZ5S1bW9KNeK"
      },
      "source": [
        "class CnnRnnModel(nn.Module):\n",
        "    def __init__(self, input_size, hidden_size, out_size):\n",
        "        super(CnnRnnModel, self).__init__()\n",
        "        self.CNN = torch.nn.Sequential(\n",
        "            nn.Conv1d(input_size, hidden_size, 3, stride=1, padding=1, bias=False),\n",
        "            nn.BatchNorm1d(hidden_size),\n",
        "            nn.ReLU(inplace=True),\n",
        "            )\n",
        "        self.RNN = nn.LSTM(input_size=hidden_size,\n",
        "                            hidden_size=hidden_size,\n",
        "                            num_layers=3,\n",
        "                            bias=True,\n",
        "                            dropout=0.3,\n",
        "                            bidirectional=True)\n",
        "        self.output = nn.Linear(hidden_size*2, out_size)\n",
        "\n",
        "    def forward(self, x, lengths):\n",
        "        x_in_cnn = x.permute(0, 2, 1)\n",
        "        x_out_cnn = self.CNN(x_in_cnn)\n",
        "        x_in_rnn = x_out_cnn.permute(2, 0, 1)\n",
        "        packed_x = pack_padded_sequence(x_in_rnn, lengths, enforce_sorted=False)\n",
        "        packed_out =  self.RNN(packed_x)[0]\n",
        "        out, out_lens = pad_packed_sequence(packed_out)      \n",
        "        out = self.output(out).log_softmax(2)\n",
        "\n",
        "        return out, out_lens"
      ],
      "execution_count": 18,
      "outputs": []
    },
    {
      "cell_type": "markdown",
      "metadata": {
        "id": "u-zllar72AZp"
      },
      "source": [
        "## 3.2 Create Train and Eval function"
      ]
    },
    {
      "cell_type": "code",
      "metadata": {
        "id": "F5IlyRWlW3iz"
      },
      "source": [
        "def ctc_decode(out, out_lens, beam_width):\n",
        "    decoder = CTCBeamDecoder(labels=char_map, beam_width=beam_width, log_probs_input=True)\n",
        "    out_Y, _, _, out_Y_lens = decoder.decode(out.transpose(0, 1), out_lens)\n",
        "\n",
        "    decode_list_all = []\n",
        "    for batch in range(out.shape[1]):\n",
        "        decode_result = \" \".join([char_map[i] for i in out_Y[batch, 0, :out_Y_lens[batch][0]]])\n",
        "        decode_list_all.append(decode_result)\n",
        "        \n",
        "    return decode_list_all "
      ],
      "execution_count": 19,
      "outputs": []
    },
    {
      "cell_type": "code",
      "metadata": {
        "id": "Nl0Q_v61srV-"
      },
      "source": [
        "def train(model, train_loader, optimizer, criterion):\n",
        "    model.train()\n",
        "\n",
        "    running_loss = 0.0\n",
        "    running_distance = 0.0\n",
        "\n",
        "    for id, (x, y, x_lens, y_lens) in enumerate(tqdm(train_loader, position=0, leave=True)):\n",
        "        # Zero grad\n",
        "        optimizer.zero_grad()\n",
        "\n",
        "        # To GPU\n",
        "        x, y = x.to(device), y.to(device)\n",
        "\n",
        "        # Foward\n",
        "        with torch.cuda.amp.autocast(enabled=True):\n",
        "            out, out_lens = model(x, x_lens)\n",
        "            loss = criterion(out, y, out_lens, y_lens)\n",
        "\n",
        "        # Loss\n",
        "        loss = criterion(out, y, out_lens, y_lens)\n",
        "        running_loss += loss.item()\n",
        "\n",
        "        # Lev Distance\n",
        "        decode_result = ctc_decode(out, out_lens, 20)\n",
        "        true_result = [\"\".join([char_map[w] for w in batch]) for batch in y]\n",
        "        for i in range(len(decode_result)):\n",
        "            s1 = decode_result[i].replace(\" \", \"\")\n",
        "            s2 = true_result[i].replace(\" \", \"\")\n",
        "            distance = lev.distance(s1, s2)\n",
        "            running_distance += distance\n",
        "\n",
        "        # Backpropagation and update weight\n",
        "        scaler.scale(loss).backward()\n",
        "        scaler.step(optimizer)\n",
        "        scaler.update()\n",
        "        \n",
        "        # Free up memory\n",
        "        torch.cuda.empty_cache()\n",
        "        del x\n",
        "        del y\n",
        "        del x_lens\n",
        "        del y_lens\n",
        "\n",
        "    # average loss\n",
        "    avg_loss = running_loss / len(train_loader)\n",
        "    avg_lev_distance = running_distance / knnw_dataset.__len__()\n",
        "    return avg_loss, avg_lev_distance\n",
        "\n",
        "\n",
        "def evaluation(model, dev_loader, optimizer, criterion):\n",
        "    model.eval()\n",
        "    with torch.no_grad():\n",
        "        running_loss = 0.0\n",
        "        running_distance = 0.0\n",
        "\n",
        "        for id, (x, y, x_lens, y_lens) in enumerate(tqdm(dev_loader, position=0, leave=True)):\n",
        "            # To GPU\n",
        "            x, y = x.to(device), y.to(device)\n",
        "\n",
        "            # Foward\n",
        "            out, out_lens = model(x, x_lens)\n",
        "          \n",
        "            # Loss\n",
        "            loss = criterion(out, y, out_lens, y_lens)\n",
        "            running_loss += loss.item()\n",
        "\n",
        "            # Lev Distance\n",
        "            decode_result = ctc_decode(out, out_lens, 20)\n",
        "            true_result = [\"\".join([char_map[w] for w in batch]) for batch in y]\n",
        "            for i in range(len(decode_result)):\n",
        "                s1 = decode_result[i].replace(\" \", \"\")\n",
        "                s2 = true_result[i].replace(\" \", \"\")\n",
        "                distance = lev.distance(s1, s2)\n",
        "                running_distance += distance\n",
        "            \n",
        "            # Free up memory\n",
        "            torch.cuda.empty_cache()\n",
        "            del x\n",
        "            del y\n",
        "            del x_lens\n",
        "            del y_lens\n",
        "\n",
        "        # average loss\n",
        "        avg_loss = running_loss / len(dev_loader)\n",
        "        avg_lev_distance = running_distance / knnw_dataset.__len__()\n",
        "        return avg_loss, avg_lev_distance"
      ],
      "execution_count": 20,
      "outputs": []
    },
    {
      "cell_type": "markdown",
      "metadata": {
        "id": "mA1-XcG72KNV"
      },
      "source": [
        "## 4.1 Initialization"
      ]
    },
    {
      "cell_type": "markdown",
      "metadata": {
        "id": "jOGsHwVppkys"
      },
      "source": [
        "### 4.1.1 Train from scratch"
      ]
    },
    {
      "cell_type": "code",
      "metadata": {
        "colab": {
          "base_uri": "https://localhost:8080/"
        },
        "id": "hKaeyiXGsrYO",
        "outputId": "91cd99dd-1d09-4944-d908-ae2d81aedaed"
      },
      "source": [
        "# Model\n",
        "model = CnnRnnModel(input_size=129, hidden_size=256, out_size=29)\n",
        "model.to(device)\n",
        "print(model)\n",
        "\n",
        "# Optimizer\n",
        "optimizer = optim.Adam(model.parameters(), lr=0.001, weight_decay=5e-6, amsgrad=True)\n",
        "# optimizer = optim.SGD(model.parameters(), lr=0.001, weight_decay=5e-6, momentum=0.9, nesterov=True)\n",
        "\n",
        "# Sheduler\n",
        "scheduler = optim.lr_scheduler.StepLR(optimizer, step_size=5, gamma=0.5)\n",
        "\n",
        "# Criterion\n",
        "criterion = nn.CTCLoss()\n",
        "\n",
        "# GradScaler\n",
        "scaler = torch.cuda.amp.GradScaler(enabled=True)\n",
        "\n",
        "# save path\n",
        "PATH_save = 'project.pt'\n",
        "best_distance = 100000"
      ],
      "execution_count": 21,
      "outputs": [
        {
          "output_type": "stream",
          "text": [
            "CnnRnnModel(\n",
            "  (CNN): Sequential(\n",
            "    (0): Conv1d(129, 256, kernel_size=(3,), stride=(1,), padding=(1,), bias=False)\n",
            "    (1): BatchNorm1d(256, eps=1e-05, momentum=0.1, affine=True, track_running_stats=True)\n",
            "    (2): ReLU(inplace=True)\n",
            "  )\n",
            "  (RNN): LSTM(256, 256, num_layers=3, dropout=0.3, bidirectional=True)\n",
            "  (output): Linear(in_features=512, out_features=29, bias=True)\n",
            ")\n"
          ],
          "name": "stdout"
        }
      ]
    },
    {
      "cell_type": "markdown",
      "metadata": {
        "id": "NE2S28_N1rEX"
      },
      "source": [
        "### 4.1.2 Transfer Learning"
      ]
    },
    {
      "cell_type": "code",
      "metadata": {
        "colab": {
          "base_uri": "https://localhost:8080/"
        },
        "id": "4jN4Pt-c1qi5",
        "outputId": "26f9aabc-617c-4333-ea90-d46492df40dc"
      },
      "source": [
        "model = CnnRnnModel(input_size=40, hidden_size=1024, out_size=42)\n",
        "PATH = \"saved_HW3P2_model.pt\"\n",
        "print(model)"
      ],
      "execution_count": 24,
      "outputs": [
        {
          "output_type": "stream",
          "text": [
            "CnnRnnModel(\n",
            "  (CNN): Sequential(\n",
            "    (0): Conv1d(40, 1024, kernel_size=(3,), stride=(1,), padding=(1,), bias=False)\n",
            "    (1): BatchNorm1d(1024, eps=1e-05, momentum=0.1, affine=True, track_running_stats=True)\n",
            "    (2): ReLU(inplace=True)\n",
            "  )\n",
            "  (RNN): LSTM(1024, 1024, num_layers=3, dropout=0.3, bidirectional=True)\n",
            "  (output): Linear(in_features=2048, out_features=42, bias=True)\n",
            ")\n"
          ],
          "name": "stdout"
        }
      ]
    },
    {
      "cell_type": "code",
      "metadata": {
        "id": "UFIy3HzcU2nV",
        "colab": {
          "base_uri": "https://localhost:8080/"
        },
        "outputId": "4ade4d94-877f-4906-b206-528d9000476d"
      },
      "source": [
        "print(\"Model's state_dict:\")\n",
        "for param_tensor in model.state_dict():\n",
        "    print(param_tensor, \"\\t\", model.state_dict()[param_tensor].size())"
      ],
      "execution_count": 25,
      "outputs": [
        {
          "output_type": "stream",
          "text": [
            "Model's state_dict:\n",
            "CNN.0.weight \t torch.Size([1024, 40, 3])\n",
            "CNN.1.weight \t torch.Size([1024])\n",
            "CNN.1.bias \t torch.Size([1024])\n",
            "CNN.1.running_mean \t torch.Size([1024])\n",
            "CNN.1.running_var \t torch.Size([1024])\n",
            "CNN.1.num_batches_tracked \t torch.Size([])\n",
            "RNN.weight_ih_l0 \t torch.Size([4096, 1024])\n",
            "RNN.weight_hh_l0 \t torch.Size([4096, 1024])\n",
            "RNN.bias_ih_l0 \t torch.Size([4096])\n",
            "RNN.bias_hh_l0 \t torch.Size([4096])\n",
            "RNN.weight_ih_l0_reverse \t torch.Size([4096, 1024])\n",
            "RNN.weight_hh_l0_reverse \t torch.Size([4096, 1024])\n",
            "RNN.bias_ih_l0_reverse \t torch.Size([4096])\n",
            "RNN.bias_hh_l0_reverse \t torch.Size([4096])\n",
            "RNN.weight_ih_l1 \t torch.Size([4096, 2048])\n",
            "RNN.weight_hh_l1 \t torch.Size([4096, 1024])\n",
            "RNN.bias_ih_l1 \t torch.Size([4096])\n",
            "RNN.bias_hh_l1 \t torch.Size([4096])\n",
            "RNN.weight_ih_l1_reverse \t torch.Size([4096, 2048])\n",
            "RNN.weight_hh_l1_reverse \t torch.Size([4096, 1024])\n",
            "RNN.bias_ih_l1_reverse \t torch.Size([4096])\n",
            "RNN.bias_hh_l1_reverse \t torch.Size([4096])\n",
            "RNN.weight_ih_l2 \t torch.Size([4096, 2048])\n",
            "RNN.weight_hh_l2 \t torch.Size([4096, 1024])\n",
            "RNN.bias_ih_l2 \t torch.Size([4096])\n",
            "RNN.bias_hh_l2 \t torch.Size([4096])\n",
            "RNN.weight_ih_l2_reverse \t torch.Size([4096, 2048])\n",
            "RNN.weight_hh_l2_reverse \t torch.Size([4096, 1024])\n",
            "RNN.bias_ih_l2_reverse \t torch.Size([4096])\n",
            "RNN.bias_hh_l2_reverse \t torch.Size([4096])\n",
            "output.weight \t torch.Size([42, 2048])\n",
            "output.bias \t torch.Size([42])\n"
          ],
          "name": "stdout"
        }
      ]
    },
    {
      "cell_type": "code",
      "metadata": {
        "id": "evp3tsSNwYfA"
      },
      "source": [
        "# Freeze model weights\n",
        "for param in model.parameters():\n",
        "    param.requires_grad = False"
      ],
      "execution_count": 26,
      "outputs": []
    },
    {
      "cell_type": "code",
      "metadata": {
        "id": "-VcPn_ilvILD"
      },
      "source": [
        "input_size = 129\n",
        "hidden_size = 1024\n",
        "out_size = 29"
      ],
      "execution_count": 27,
      "outputs": []
    },
    {
      "cell_type": "code",
      "metadata": {
        "id": "4P5thHK3uyHo",
        "colab": {
          "base_uri": "https://localhost:8080/"
        },
        "outputId": "fdc607f6-535a-4d8b-9223-4156b3bb759f"
      },
      "source": [
        "model.CNN[0] = nn.Conv1d(input_size, hidden_size, 3, stride=1, padding=1, bias=False)\n",
        "model.output = nn.Linear(hidden_size*2, out_size)\n",
        "model.to(device)\n",
        "print(model)"
      ],
      "execution_count": 28,
      "outputs": [
        {
          "output_type": "stream",
          "text": [
            "CnnRnnModel(\n",
            "  (CNN): Sequential(\n",
            "    (0): Conv1d(129, 1024, kernel_size=(3,), stride=(1,), padding=(1,), bias=False)\n",
            "    (1): BatchNorm1d(1024, eps=1e-05, momentum=0.1, affine=True, track_running_stats=True)\n",
            "    (2): ReLU(inplace=True)\n",
            "  )\n",
            "  (RNN): LSTM(1024, 1024, num_layers=3, dropout=0.3, bidirectional=True)\n",
            "  (output): Linear(in_features=2048, out_features=29, bias=True)\n",
            ")\n"
          ],
          "name": "stdout"
        }
      ]
    },
    {
      "cell_type": "code",
      "metadata": {
        "id": "4DjbYIV4w6B2",
        "colab": {
          "base_uri": "https://localhost:8080/"
        },
        "outputId": "c7d159da-8e23-4a96-f5ee-09ec117c6417"
      },
      "source": [
        "print(\"Model's state_dict:\")\n",
        "for param_tensor in model.state_dict():\n",
        "    print(param_tensor, \"\\t\", model.state_dict()[param_tensor].size())"
      ],
      "execution_count": 29,
      "outputs": [
        {
          "output_type": "stream",
          "text": [
            "Model's state_dict:\n",
            "CNN.0.weight \t torch.Size([1024, 129, 3])\n",
            "CNN.1.weight \t torch.Size([1024])\n",
            "CNN.1.bias \t torch.Size([1024])\n",
            "CNN.1.running_mean \t torch.Size([1024])\n",
            "CNN.1.running_var \t torch.Size([1024])\n",
            "CNN.1.num_batches_tracked \t torch.Size([])\n",
            "RNN.weight_ih_l0 \t torch.Size([4096, 1024])\n",
            "RNN.weight_hh_l0 \t torch.Size([4096, 1024])\n",
            "RNN.bias_ih_l0 \t torch.Size([4096])\n",
            "RNN.bias_hh_l0 \t torch.Size([4096])\n",
            "RNN.weight_ih_l0_reverse \t torch.Size([4096, 1024])\n",
            "RNN.weight_hh_l0_reverse \t torch.Size([4096, 1024])\n",
            "RNN.bias_ih_l0_reverse \t torch.Size([4096])\n",
            "RNN.bias_hh_l0_reverse \t torch.Size([4096])\n",
            "RNN.weight_ih_l1 \t torch.Size([4096, 2048])\n",
            "RNN.weight_hh_l1 \t torch.Size([4096, 1024])\n",
            "RNN.bias_ih_l1 \t torch.Size([4096])\n",
            "RNN.bias_hh_l1 \t torch.Size([4096])\n",
            "RNN.weight_ih_l1_reverse \t torch.Size([4096, 2048])\n",
            "RNN.weight_hh_l1_reverse \t torch.Size([4096, 1024])\n",
            "RNN.bias_ih_l1_reverse \t torch.Size([4096])\n",
            "RNN.bias_hh_l1_reverse \t torch.Size([4096])\n",
            "RNN.weight_ih_l2 \t torch.Size([4096, 2048])\n",
            "RNN.weight_hh_l2 \t torch.Size([4096, 1024])\n",
            "RNN.bias_ih_l2 \t torch.Size([4096])\n",
            "RNN.bias_hh_l2 \t torch.Size([4096])\n",
            "RNN.weight_ih_l2_reverse \t torch.Size([4096, 2048])\n",
            "RNN.weight_hh_l2_reverse \t torch.Size([4096, 1024])\n",
            "RNN.bias_ih_l2_reverse \t torch.Size([4096])\n",
            "RNN.bias_hh_l2_reverse \t torch.Size([4096])\n",
            "output.weight \t torch.Size([29, 2048])\n",
            "output.bias \t torch.Size([29])\n"
          ],
          "name": "stdout"
        }
      ]
    },
    {
      "cell_type": "code",
      "metadata": {
        "id": "qdqufO2dtyu2"
      },
      "source": [
        "# optimizer = optim.Adam(model.parameters(), lr=0.001, weight_decay=5e-6, amsgrad=True)\n",
        "optimizer = optim.SGD(model.parameters(), lr=0.001, weight_decay=5e-6, momentum=0.9, nesterov=True)\n",
        "scheduler = optim.lr_scheduler.StepLR(optimizer, step_size=5, gamma=0.5)\n",
        "criterion = nn.CTCLoss()\n",
        "best_distance = 100000\n",
        "PATH_save = 'project_tl.pt'"
      ],
      "execution_count": 32,
      "outputs": []
    },
    {
      "cell_type": "code",
      "metadata": {
        "colab": {
          "base_uri": "https://localhost:8080/"
        },
        "id": "_hCmDloiJqH5",
        "outputId": "066668ff-b301-41ba-de36-5d8fe025297e"
      },
      "source": [
        "# Reconfirm model performance with evaluation\n",
        "start_time = time.time()\n",
        "test_loss, test_distance = evaluation(model, knnw_loader, optimizer, criterion)\n",
        "end_time = time.time()\n",
        "\n",
        "# Print to inform\n",
        "test_log_text = \"\\nEpoch: [%d/%d], Testing Loss:%2f, Testing Distance:%2f, Testing Time:%2f\" % (0, 0, test_loss, test_distance, end_time - start_time)\n",
        "cprint(test_log_text, color='red', attrs=['bold'])"
      ],
      "execution_count": 30,
      "outputs": [
        {
          "output_type": "stream",
          "text": [
            "100%|██████████| 21/21 [00:40<00:00,  1.95s/it]"
          ],
          "name": "stderr"
        },
        {
          "output_type": "stream",
          "text": [
            "\u001b[1m\u001b[31m\n",
            "Epoch: [0/0], Testing Loss:99.251723, Testing Distance:223.114860, Testing Time:40.965236\u001b[0m\n"
          ],
          "name": "stdout"
        },
        {
          "output_type": "stream",
          "text": [
            "\n"
          ],
          "name": "stderr"
        }
      ]
    },
    {
      "cell_type": "markdown",
      "metadata": {
        "id": "r64GmjSi2QdO"
      },
      "source": [
        "## 4.2 Training"
      ]
    },
    {
      "cell_type": "markdown",
      "metadata": {
        "id": "kwB3ub1CFyX7"
      },
      "source": [
        "### 4.2.1 Train scratch model"
      ]
    },
    {
      "cell_type": "code",
      "metadata": {
        "colab": {
          "base_uri": "https://localhost:8080/"
        },
        "id": "gZZprdfksraz",
        "outputId": "63a6874e-d4e7-4cb0-e5bc-055652c2bc23"
      },
      "source": [
        "# epoch and training info\n",
        "n_epochs = 5\n",
        "Train_loss = []\n",
        "Test_loss = []\n",
        "Train_dis = []\n",
        "Test_dis = []\n",
        "\n",
        "\n",
        "for epoch in tqdm(range(n_epochs), position=0, leave=True):\n",
        "    # Training and get key results\n",
        "    for param_group in optimizer.param_groups:\n",
        "        print('\\nlr: ', param_group['lr'])\n",
        "\n",
        "    start_time = time.time()\n",
        "    train_loss, train_distance = train(model, knnw_loader, optimizer, criterion)\n",
        "    end_time = time.time()\n",
        "\n",
        "    # Record\n",
        "    Train_loss.append(train_loss)\n",
        "    Train_dis.append(train_distance)\n",
        "\n",
        "    # Print to inform\n",
        "    train_log_text = \"\\nEpoch: [%d/%d], Training Loss:%2f, Training Distance:%2f, Training Time:%2f\" % (epoch, n_epochs-1, train_loss, train_distance, end_time - start_time)\n",
        "    cprint(train_log_text, color='green', attrs=['bold'])\n",
        "\n",
        "\n",
        "    # Didn't do CV for now\n",
        "\n",
        "    # # Evaluation and get key results\n",
        "    # start_time = time.time()\n",
        "    # test_loss, test_distance = evaluation(model, dev_loader, optimizer, criterion)\n",
        "    # end_time = time.time()\n",
        "\n",
        "    # # Record\n",
        "    # Test_loss.append(test_loss)\n",
        "    # Test_dis.append(test_distance)\n",
        "\n",
        "    # # Print to inform\n",
        "    # test_log_text = \"\\nEpoch: [%d/%d], Testing Loss:%2f, Testing Distance:%2f, Testing Time:%2f\" % (epoch, n_epochs-1, test_loss, test_distance, end_time - start_time)\n",
        "    # cprint(test_log_text, color='red', attrs=['bold'])\n",
        "\n",
        "\n",
        "    # Store model\n",
        "    if train_distance < best_distance:\n",
        "        torch.save(model.state_dict(), PATH_save)\n",
        "        best_distance = train_distance\n",
        "\n",
        "    # scheduler\n",
        "    scheduler.step()"
      ],
      "execution_count": 22,
      "outputs": [
        {
          "output_type": "stream",
          "text": [
            "  0%|          | 0/21 [00:00<?, ?it/s]"
          ],
          "name": "stderr"
        },
        {
          "output_type": "stream",
          "text": [
            "\n",
            "lr:  0.001\n"
          ],
          "name": "stdout"
        },
        {
          "output_type": "stream",
          "text": [
            "100%|██████████| 21/21 [00:37<00:00,  1.80s/it]\n"
          ],
          "name": "stderr"
        },
        {
          "output_type": "stream",
          "text": [
            "\u001b[1m\u001b[32m\n",
            "Epoch: [0/4], Training Loss:36.177964, Training Distance:90.160086, Training Time:37.746374\u001b[0m\n"
          ],
          "name": "stdout"
        },
        {
          "output_type": "stream",
          "text": [
            "  0%|          | 0/21 [00:00<?, ?it/s]"
          ],
          "name": "stderr"
        },
        {
          "output_type": "stream",
          "text": [
            "\n",
            "lr:  0.001\n"
          ],
          "name": "stdout"
        },
        {
          "output_type": "stream",
          "text": [
            "100%|██████████| 21/21 [00:39<00:00,  1.86s/it]\n",
            "  0%|          | 0/21 [00:00<?, ?it/s]"
          ],
          "name": "stderr"
        },
        {
          "output_type": "stream",
          "text": [
            "\u001b[1m\u001b[32m\n",
            "Epoch: [1/4], Training Loss:3.476978, Training Distance:24.466619, Training Time:39.067104\u001b[0m\n",
            "\n",
            "lr:  0.001\n"
          ],
          "name": "stdout"
        },
        {
          "output_type": "stream",
          "text": [
            "100%|██████████| 21/21 [00:39<00:00,  1.90s/it]\n",
            "  0%|          | 0/21 [00:00<?, ?it/s]"
          ],
          "name": "stderr"
        },
        {
          "output_type": "stream",
          "text": [
            "\u001b[1m\u001b[32m\n",
            "Epoch: [2/4], Training Loss:3.282419, Training Distance:24.349605, Training Time:39.915561\u001b[0m\n",
            "\n",
            "lr:  0.001\n"
          ],
          "name": "stdout"
        },
        {
          "output_type": "stream",
          "text": [
            "100%|██████████| 21/21 [00:40<00:00,  1.91s/it]\n",
            "  0%|          | 0/21 [00:00<?, ?it/s]"
          ],
          "name": "stderr"
        },
        {
          "output_type": "stream",
          "text": [
            "\u001b[1m\u001b[32m\n",
            "Epoch: [3/4], Training Loss:3.287658, Training Distance:24.537688, Training Time:40.209121\u001b[0m\n",
            "\n",
            "lr:  0.001\n"
          ],
          "name": "stdout"
        },
        {
          "output_type": "stream",
          "text": [
            "100%|██████████| 21/21 [00:40<00:00,  1.94s/it]\n",
            "100%|██████████| 5/5 [03:18<00:00, 39.76s/it]"
          ],
          "name": "stderr"
        },
        {
          "output_type": "stream",
          "text": [
            "\u001b[1m\u001b[32m\n",
            "Epoch: [4/4], Training Loss:3.287722, Training Distance:24.759512, Training Time:40.829643\u001b[0m\n"
          ],
          "name": "stdout"
        },
        {
          "output_type": "stream",
          "text": [
            "\n"
          ],
          "name": "stderr"
        }
      ]
    },
    {
      "cell_type": "code",
      "metadata": {
        "colab": {
          "base_uri": "https://localhost:8080/",
          "height": 591
        },
        "id": "UUUHyAz-nu41",
        "outputId": "0e5f94be-dd7e-4c84-a15d-5fe7bf828cd5"
      },
      "source": [
        "# Train from scratch result\n",
        "ax1 = plt.figure().gca()\n",
        "ax1.plot(np.linspace(0,n_epochs-1,n_epochs, dtype=int), Train_loss, 'r')\n",
        "ax1.xaxis.set_major_locator(MaxNLocator(integer=True))\n",
        "ax1.grid()\n",
        "ax1.set_xlabel('epochs')\n",
        "ax1.set_ylabel('loss')\n",
        "ax1.legend(['train loss'])\n",
        "ax1.set_title('Train loss')\n",
        "\n",
        "ax2 = plt.figure().gca()\n",
        "ax2.plot(np.linspace(0,n_epochs-1,n_epochs, dtype=int), Train_dis, 'b')\n",
        "ax2.xaxis.set_major_locator(MaxNLocator(integer=True))\n",
        "ax2.grid()\n",
        "ax2.set_xlabel('epochs')\n",
        "ax2.set_ylabel('edit distance')\n",
        "ax2.legend(['train distance'])\n",
        "ax2.set_title('Train distance')"
      ],
      "execution_count": 23,
      "outputs": [
        {
          "output_type": "execute_result",
          "data": {
            "text/plain": [
              "Text(0.5, 1.0, 'Train distance')"
            ]
          },
          "metadata": {
            "tags": []
          },
          "execution_count": 23
        },
        {
          "output_type": "display_data",
          "data": {
            "image/png": "[encoded data removed]",
            "text/plain": [
              "<Figure size 432x288 with 1 Axes>"
            ]
          },
          "metadata": {
            "tags": [],
            "needs_background": "light"
          }
        },
        {
          "output_type": "display_data",
          "data": {
            "image/png": "[encoded data removed]",
            "text/plain": [
              "<Figure size 432x288 with 1 Axes>"
            ]
          },
          "metadata": {
            "tags": [],
            "needs_background": "light"
          }
        }
      ]
    },
    {
      "cell_type": "markdown",
      "metadata": {
        "id": "iShPbQUVoifE"
      },
      "source": [
        "### 4.2.2 Train Transfer Learning model"
      ]
    },
    {
      "cell_type": "code",
      "metadata": {
        "id": "Noy_XCVroqu4",
        "colab": {
          "base_uri": "https://localhost:8080/"
        },
        "outputId": "e6c502ae-06a8-4fc0-9f88-99601e8c5dbf"
      },
      "source": [
        "# epoch and training info\n",
        "n_epochs = 5\n",
        "Train_loss = []\n",
        "Test_loss = []\n",
        "Train_dis = []\n",
        "Test_dis = []\n",
        "\n",
        "\n",
        "for epoch in tqdm(range(n_epochs), position=0, leave=True):\n",
        "    # Training and get key results\n",
        "    for param_group in optimizer.param_groups:\n",
        "        print('\\nlr: ', param_group['lr'])\n",
        "\n",
        "    start_time = time.time()\n",
        "    train_loss, train_distance = train(model, knnw_loader, optimizer, criterion)\n",
        "    end_time = time.time()\n",
        "\n",
        "    # Record\n",
        "    Train_loss.append(train_loss)\n",
        "    Train_dis.append(train_distance)\n",
        "\n",
        "    # Print to inform\n",
        "    train_log_text = \"\\nEpoch: [%d/%d], Training Loss:%2f, Training Distance:%2f, Training Time:%2f\" % (epoch, n_epochs-1, train_loss, train_distance, end_time - start_time)\n",
        "    cprint(train_log_text, color='green', attrs=['bold'])\n",
        "\n",
        "\n",
        "    # Didn't do CV for now\n",
        "\n",
        "    # # Evaluation and get key results\n",
        "    # start_time = time.time()\n",
        "    # test_loss, test_distance = evaluation(model, dev_loader, optimizer, criterion)\n",
        "    # end_time = time.time()\n",
        "\n",
        "    # # Record\n",
        "    # Test_loss.append(test_loss)\n",
        "    # Test_dis.append(test_distance)\n",
        "\n",
        "    # # Print to inform\n",
        "    # test_log_text = \"\\nEpoch: [%d/%d], Testing Loss:%2f, Testing Distance:%2f, Testing Time:%2f\" % (epoch, n_epochs-1, test_loss, test_distance, end_time - start_time)\n",
        "    # cprint(test_log_text, color='red', attrs=['bold'])\n",
        "\n",
        "\n",
        "    # Store model\n",
        "    if train_distance < best_distance:\n",
        "        torch.save(model.state_dict(), PATH_save)\n",
        "        best_distance = train_distance\n",
        "\n",
        "    # scheduler\n",
        "    scheduler.step()"
      ],
      "execution_count": 33,
      "outputs": [
        {
          "output_type": "stream",
          "text": [
            "  0%|          | 0/21 [00:00<?, ?it/s]"
          ],
          "name": "stderr"
        },
        {
          "output_type": "stream",
          "text": [
            "\n",
            "lr:  0.001\n"
          ],
          "name": "stdout"
        },
        {
          "output_type": "stream",
          "text": [
            "100%|██████████| 21/21 [00:51<00:00,  2.47s/it]\n"
          ],
          "name": "stderr"
        },
        {
          "output_type": "stream",
          "text": [
            "\u001b[1m\u001b[32m\n",
            "Epoch: [0/4], Training Loss:35.812862, Training Distance:67.552764, Training Time:51.837161\u001b[0m\n"
          ],
          "name": "stdout"
        },
        {
          "output_type": "stream",
          "text": [
            "  0%|          | 0/21 [00:00<?, ?it/s]"
          ],
          "name": "stderr"
        },
        {
          "output_type": "stream",
          "text": [
            "\n",
            "lr:  0.001\n"
          ],
          "name": "stdout"
        },
        {
          "output_type": "stream",
          "text": [
            "100%|██████████| 21/21 [00:49<00:00,  2.34s/it]\n"
          ],
          "name": "stderr"
        },
        {
          "output_type": "stream",
          "text": [
            "\u001b[1m\u001b[32m\n",
            "Epoch: [1/4], Training Loss:5.015515, Training Distance:24.558507, Training Time:49.068266\u001b[0m\n"
          ],
          "name": "stdout"
        },
        {
          "output_type": "stream",
          "text": [
            "  0%|          | 0/21 [00:00<?, ?it/s]"
          ],
          "name": "stderr"
        },
        {
          "output_type": "stream",
          "text": [
            "\n",
            "lr:  0.001\n"
          ],
          "name": "stdout"
        },
        {
          "output_type": "stream",
          "text": [
            "100%|██████████| 21/21 [00:48<00:00,  2.31s/it]\n"
          ],
          "name": "stderr"
        },
        {
          "output_type": "stream",
          "text": [
            "\u001b[1m\u001b[32m\n",
            "Epoch: [2/4], Training Loss:4.557777, Training Distance:24.503948, Training Time:48.444283\u001b[0m\n"
          ],
          "name": "stdout"
        },
        {
          "output_type": "stream",
          "text": [
            "  0%|          | 0/21 [00:00<?, ?it/s]"
          ],
          "name": "stderr"
        },
        {
          "output_type": "stream",
          "text": [
            "\n",
            "lr:  0.001\n"
          ],
          "name": "stdout"
        },
        {
          "output_type": "stream",
          "text": [
            "100%|██████████| 21/21 [00:49<00:00,  2.34s/it]\n",
            "  0%|          | 0/21 [00:00<?, ?it/s]"
          ],
          "name": "stderr"
        },
        {
          "output_type": "stream",
          "text": [
            "\u001b[1m\u001b[32m\n",
            "Epoch: [3/4], Training Loss:4.014647, Training Distance:24.508973, Training Time:49.217371\u001b[0m\n",
            "\n",
            "lr:  0.001\n"
          ],
          "name": "stdout"
        },
        {
          "output_type": "stream",
          "text": [
            "100%|██████████| 21/21 [00:49<00:00,  2.36s/it]\n",
            "100%|██████████| 5/5 [04:11<00:00, 50.35s/it]"
          ],
          "name": "stderr"
        },
        {
          "output_type": "stream",
          "text": [
            "\u001b[1m\u001b[32m\n",
            "Epoch: [4/4], Training Loss:3.744032, Training Distance:24.613783, Training Time:49.603506\u001b[0m\n"
          ],
          "name": "stdout"
        },
        {
          "output_type": "stream",
          "text": [
            "\n"
          ],
          "name": "stderr"
        }
      ]
    },
    {
      "cell_type": "code",
      "metadata": {
        "id": "lDcb7RVNouZs",
        "colab": {
          "base_uri": "https://localhost:8080/",
          "height": 591
        },
        "outputId": "12f8d7c1-daa4-4d25-d059-70d74927452f"
      },
      "source": [
        "# Transfer Learning train result\n",
        "ax1 = plt.figure().gca()\n",
        "ax1.plot(np.linspace(0,n_epochs-1,n_epochs, dtype=int), Train_loss, 'r')\n",
        "ax1.xaxis.set_major_locator(MaxNLocator(integer=True))\n",
        "ax1.grid()\n",
        "ax1.set_xlabel('epochs')\n",
        "ax1.set_ylabel('loss')\n",
        "ax1.legend(['train loss'])\n",
        "ax1.set_title('Train loss (transfer learning)')\n",
        "\n",
        "ax2 = plt.figure().gca()\n",
        "ax2.plot(np.linspace(0,n_epochs-1,n_epochs, dtype=int), Train_dis, 'b')\n",
        "ax2.xaxis.set_major_locator(MaxNLocator(integer=True))\n",
        "ax2.grid()\n",
        "ax2.set_xlabel('epochs')\n",
        "ax2.set_ylabel('edit distance')\n",
        "ax2.legend(['train distance'])\n",
        "ax2.set_title('Train distance (transfer learning)')"
      ],
      "execution_count": 35,
      "outputs": [
        {
          "output_type": "execute_result",
          "data": {
            "text/plain": [
              "Text(0.5, 1.0, 'Train distance (transfer learning)')"
            ]
          },
          "metadata": {
            "tags": []
          },
          "execution_count": 35
        },
        {
          "output_type": "display_data",
          "data": {
            "image/png": "[encoded data removed]",
            "text/plain": [
              "<Figure size 432x288 with 1 Axes>"
            ]
          },
          "metadata": {
            "tags": [],
            "needs_background": "light"
          }
        },
        {
          "output_type": "display_data",
          "data": {
            "image/png": "[encoded data removed]",
            "text/plain": [
              "<Figure size 432x288 with 1 Axes>"
            ]
          },
          "metadata": {
            "tags": [],
            "needs_background": "light"
          }
        }
      ]
    },
    {
      "cell_type": "markdown",
      "metadata": {
        "id": "5ry-TQ0vF9DZ"
      },
      "source": [
        "### 4.2.3 Manually check some performance"
      ]
    },
    {
      "cell_type": "code",
      "metadata": {
        "id": "oxS1ewIA0gHc"
      },
      "source": [
        "model.eval()\n",
        "with torch.no_grad():\n",
        "  x, y, x_lens, y_lens = next(iter(knnw_loader))\n",
        "  x, y = x.to(device), y.to(device)\n",
        "  out, out_lens = model(x, x_lens)\n",
        "  loss = criterion(out, y, out_lens, y_lens)"
      ],
      "execution_count": 36,
      "outputs": []
    },
    {
      "cell_type": "code",
      "metadata": {
        "id": "R6tiH7Ph0aRC"
      },
      "source": [
        "print(out)"
      ],
      "execution_count": null,
      "outputs": []
    },
    {
      "cell_type": "code",
      "metadata": {
        "colab": {
          "base_uri": "https://localhost:8080/"
        },
        "id": "H_l6U0z80bZ0",
        "outputId": "2008e19d-bd47-4870-8942-590a97fd4a44"
      },
      "source": [
        "print(loss)"
      ],
      "execution_count": 38,
      "outputs": [
        {
          "output_type": "stream",
          "text": [
            "tensor(3.6416, device='cuda:0')\n"
          ],
          "name": "stdout"
        }
      ]
    },
    {
      "cell_type": "code",
      "metadata": {
        "colab": {
          "base_uri": "https://localhost:8080/"
        },
        "id": "w03f70Ph0c-Z",
        "outputId": "ad6b8d7b-ef0f-402d-fa6e-c23d3e2112a0"
      },
      "source": [
        "true_result = [\"\".join([char_map[w] for w in batch]) for batch in y]\n",
        "decode_result = ctc_decode(out, out_lens, 20)\n",
        "s1_all = []\n",
        "s2_all = []\n",
        "dist_all = []\n",
        "for i in range(len(decode_result)):\n",
        "    s1 = decode_result[i].replace(\" \", \"\")\n",
        "    s2 = true_result[i].replace(\" \", \"\")\n",
        "    distance = lev.distance(s1, s2)\n",
        "    s1_all.append(s1)\n",
        "    s2_all.append(s2)\n",
        "    dist_all.append(distance)\n",
        "print(s1_all)\n",
        "print(s2_all)\n",
        "print(dist_all)"
      ],
      "execution_count": 39,
      "outputs": [
        {
          "output_type": "stream",
          "text": [
            "['', '', '', '', '', '', '', '', '', '', '', '', '', '', '', '', '', '', '', '', '', '', '', '', '', '', '', '', '', '', '', '', '', '', '', '', '', '', '', '', '', '', '', '', '', '', '', '', '', '', '', '', '', '', '', '', '', '', '', '', '', '', '', '']\n",
            "['nothingmoreorless', 'iswearthatillfindyouagainnomatterwhat', 'scalingthewallsoftimeclimber', 'goodmorning', 'whatcouldhavebeenthereason', 'onedaywellreachtoemotionsunexploredunprecedented', 'illdomybest', 'tsukasasaidhewasgonnagoaheadandtakeabath', 'seeyoureyesdrier', 'miyamoridistrict', 'iseeyourenottouchingyourboobiestoday', 'maybeificould', 'isthatyotsuhashesallgrownup', 'gasp', 'noallfuturelives', 'threeyearsago', 'keepyourfullmouthshut', 'msokuderayougettinghungrywecouldgetdinner', 'illseeyouguysatthefestivalbabyewellmeetyaatthestepstoneshrinedontbelatek', 'thewarningsystemyeahthosespeakersalloverthetown', 'overdied', 'waitlongyeahaahnouh', 'hereshegoes', 'justgivemeonemorechance', 'itstheperfectplan', 'ihavetogosomewheregobacktotokyowithoutmeillreturnlaterthanks', 'taaaki', 'timetogogetready', 'taki', 'whatisgoinonsostayonstandby', 'eventhesecondhourhandsoftheclock', 'ihearhesbeendullinouttheporkjustbetweenus', 'gasp', 'theyreallthesame', 'nwhillilllooktheotherway', 'youregoingtobeabigsister', 'iwantedhertobealive', 'shesaidshefeltlikecuttinityasureaboutthatyoureallythinkshefeltlikecuttinoffthatmuchofit', 'thesheerluckandcoincidenceofitallsparkedvariousconspiracytheories', 'seriouslywhatisupwithyou', 'over', 'thebraidedcordsofitomori', 'smilingevenwhenimfeelinglonely', 'thereitis', 'gasp', 'ikeptitforthreeyears', 'anotheroldertermforitisdusklight', 'theyrelookersalrightjustliketheirmother', 'sothatwedontforgetthingswhenwewakeup', 'buttheresonethingimcertainof', 'justalittlemore', 'theschoolyardthesemountains', 'buttwococktailloungesforwhateverreason', 'right', 'isasenseofloss', 'its', 'gasp', 'wealsoagreedtoleaveeachotherreportsonourphonesonthedaysweswitchplaces', 'jinguhighschool', 'wellbeatdestinyatitsowngameandmakeitfollowourownrules', 'meteorstrikeswipesouttown', 'whaohnoithinkthatimlateforwork', 'whataboutmagichouritssomethingmygrandmasays', 'ooohhaha']\n",
            "[17, 37, 28, 11, 26, 48, 11, 40, 16, 16, 36, 13, 27, 4, 16, 13, 21, 41, 72, 47, 8, 19, 11, 23, 17, 60, 6, 16, 4, 27, 32, 41, 4, 16, 24, 24, 19, 87, 65, 24, 4, 24, 30, 9, 4, 20, 32, 39, 36, 28, 15, 27, 38, 5, 14, 3, 4, 69, 15, 53, 25, 30, 43, 8]\n"
          ],
          "name": "stdout"
        }
      ]
    },
    {
      "cell_type": "markdown",
      "metadata": {
        "id": "loTVa6xTDvK6"
      },
      "source": [
        "## 5.2 Test"
      ]
    },
    {
      "cell_type": "markdown",
      "metadata": {
        "id": "2jIK5svz3Zkh"
      },
      "source": [
        "### 5.2.1 Load Test Data"
      ]
    },
    {
      "cell_type": "code",
      "metadata": {
        "id": "GhiaQKu4SnmU"
      },
      "source": [
        "class MyTestDataset(data.Dataset):\n",
        "  def __init__(self, X):\n",
        "    self.X = X\n",
        "    self.length = len(self.X)\n",
        "\n",
        "  def __len__(self):\n",
        "    return self.length\n",
        "\n",
        "  def __getitem__(self, index):\n",
        "    res_X = torch.from_numpy(self.X[index]).float()\n",
        "    return res_X"
      ],
      "execution_count": null,
      "outputs": []
    },
    {
      "cell_type": "code",
      "metadata": {
        "id": "_4pKiERX3vu2"
      },
      "source": [
        "def pad_collate_test(batch):\n",
        "    xx = [x for x in batch]\n",
        "    x_lens = torch.LongTensor([len(x) for x in xx])\n",
        "\n",
        "    xx_pad = pad_sequence(xx, batch_first=True)\n",
        "    return xx_pad, x_lens"
      ],
      "execution_count": null,
      "outputs": []
    },
    {
      "cell_type": "code",
      "metadata": {
        "id": "s-1aN7RnSIep"
      },
      "source": [
        "# Test data set\n",
        "test_dataset = MyTestDataset(test_data)\n",
        "test_loader = data.DataLoader(\n",
        "          dataset=test_dataset,           \n",
        "          batch_size=64,\n",
        "          num_workers=4,\n",
        "          collate_fn=pad_collate_test,\n",
        "          shuffle=False,\n",
        "          pin_memory=True)"
      ],
      "execution_count": null,
      "outputs": []
    },
    {
      "cell_type": "markdown",
      "metadata": {
        "id": "PcYGqr173ccd"
      },
      "source": [
        "### 5.2.2 Make Predictions"
      ]
    },
    {
      "cell_type": "code",
      "metadata": {
        "id": "oGrS2d4YsrqM"
      },
      "source": [
        "# Predict\n",
        "predictions = []\n",
        "\n",
        "model.eval()\n",
        "with torch.no_grad():\n",
        "  for id, (x, x_lens) in enumerate(tqdm(test_loader, position=0, leave=True)):\n",
        "    # To GPU\n",
        "    x = x.to(device)\n",
        "\n",
        "    # Foward\n",
        "    out, out_lens = model(x, x_lens)\n",
        "\n",
        "    # result\n",
        "    decode_result = ctc_decode(out, x_lens, 50)\n",
        "\n",
        "    predictions.append(decode_result)"
      ],
      "execution_count": null,
      "outputs": []
    },
    {
      "cell_type": "code",
      "metadata": {
        "id": "fkfzl2X629rL"
      },
      "source": [
        "# Flatten predictions\n",
        "flat_predictions = [item for sublist in predictions for item in sublist]"
      ],
      "execution_count": null,
      "outputs": []
    }
  ]
}